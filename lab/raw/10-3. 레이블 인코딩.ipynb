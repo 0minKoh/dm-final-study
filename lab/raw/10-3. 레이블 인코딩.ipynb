{
 "cells": [
  {
   "cell_type": "markdown",
   "metadata": {},
   "source": [
    "# 레이블 인코딩 Lab"
   ]
  },
  {
   "cell_type": "code",
   "execution_count": 2,
   "metadata": {},
   "outputs": [],
   "source": [
    "import pandas as pd "
   ]
  },
  {
   "cell_type": "markdown",
   "metadata": {},
   "source": [
    "1. customer_na.csv 파일을 읽어서 customer_df에 저장하시오. 저장 후에 데이터의 특성을 탐색하시오."
   ]
  },
  {
   "cell_type": "code",
   "execution_count": 3,
   "metadata": {},
   "outputs": [
    {
     "data": {
      "text/plain": [
       "CountryRegionName        object\n",
       "Education                object\n",
       "Occupation               object\n",
       "Gender                   object\n",
       "MaritalStatus            object\n",
       "HomeOwnerFlag             int64\n",
       "NumberCarsOwned           int64\n",
       "NumberChildrenAtHome      int64\n",
       "TotalChildren             int64\n",
       "YearlyIncome              int64\n",
       "BikeBuyer               float64\n",
       "AvgMonthSpend           float64\n",
       "Age                       int64\n",
       "dtype: object"
      ]
     },
     "execution_count": 3,
     "metadata": {},
     "output_type": "execute_result"
    }
   ],
   "source": [
    "customer_df = pd.read_csv('../../data/customer_na.csv')\n",
    "customer_df.dtypes"
   ]
  },
  {
   "cell_type": "markdown",
   "metadata": {},
   "source": [
    "## Data Encoding - Label Encoding"
   ]
  },
  {
   "cell_type": "markdown",
   "metadata": {},
   "source": [
    "2. Gender 값을 M은 0으로 F는 1로 변환하시오. MaritalStatus의 값을 M은 1로 S는 0으로 변환하시오. "
   ]
  },
  {
   "cell_type": "code",
   "execution_count": 4,
   "metadata": {},
   "outputs": [],
   "source": [
    "customer_df['Gender'] = customer_df['Gender'].apply(lambda x: 0 if x=='M' else 1)\n",
    "customer_df['MaritalStatus'] = customer_df['MaritalStatus'].apply(lambda x: 0 if x=='M' else 1)"
   ]
  },
  {
   "cell_type": "markdown",
   "metadata": {},
   "source": [
    "3. CountryRegionName, Education, Occupation에 대하여 LabelEncoding을 하시오."
   ]
  },
  {
   "cell_type": "code",
   "execution_count": 5,
   "metadata": {},
   "outputs": [],
   "source": [
    "from sklearn.preprocessing import LabelEncoder\n",
    "label_encoder = LabelEncoder()\n",
    "\n",
    "columns = ['CountryRegionName', 'Education', 'Occupation']\n",
    "for col in columns:\n",
    "  label_encoder.fit(customer_df[col])\n",
    "  customer_df[col] = label_encoder.transform(customer_df[col])"
   ]
  },
  {
   "cell_type": "markdown",
   "metadata": {},
   "source": [
    "4. 레이블 인코딩된 결과를 customer_l_encoding.csv 파일에 저장하시오. 단 인덱스는 저장하지 마시오."
   ]
  },
  {
   "cell_type": "code",
   "execution_count": 6,
   "metadata": {},
   "outputs": [],
   "source": [
    "# 레이블 인코딩된 결과를 customer_l_encoding.csv 파일에 저장하시오. 단 인덱스는 저장하지 마시오.\n",
    "customer_df.to_csv('../../data/res/customer_l_encoding.csv', index=False)"
   ]
  }
 ],
 "metadata": {
  "kernelspec": {
   "display_name": "dm-3-12",
   "language": "python",
   "name": "python3"
  },
  "language_info": {
   "codemirror_mode": {
    "name": "ipython",
    "version": 3
   },
   "file_extension": ".py",
   "mimetype": "text/x-python",
   "name": "python",
   "nbconvert_exporter": "python",
   "pygments_lexer": "ipython3",
   "version": "3.9.16"
  }
 },
 "nbformat": 4,
 "nbformat_minor": 4
}
