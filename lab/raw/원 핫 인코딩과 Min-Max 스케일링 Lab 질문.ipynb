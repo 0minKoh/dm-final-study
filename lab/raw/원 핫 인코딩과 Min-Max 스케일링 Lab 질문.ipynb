{
 "cells": [
  {
   "cell_type": "markdown",
   "metadata": {},
   "source": [
    "# 원 핫 인코딩과 Min-Max 스케일링 Lab"
   ]
  },
  {
   "cell_type": "code",
   "execution_count": 3,
   "metadata": {},
   "outputs": [],
   "source": [
    "import numpy as np \n",
    "import pandas as pd \n",
    "import os"
   ]
  },
  {
   "cell_type": "markdown",
   "metadata": {},
   "source": [
    "1. customer_na.csv 파일을 읽어서 customer_df에 저장하시오. 저장 후에 데이터의 특성을 탐색하시오."
   ]
  },
  {
   "cell_type": "code",
   "execution_count": 4,
   "metadata": {},
   "outputs": [
    {
     "name": "stdout",
     "output_type": "stream",
     "text": [
      "<class 'pandas.core.frame.DataFrame'>\n",
      "RangeIndex: 18355 entries, 0 to 18354\n",
      "Data columns (total 13 columns):\n",
      " #   Column                Non-Null Count  Dtype  \n",
      "---  ------                --------------  -----  \n",
      " 0   CountryRegionName     18355 non-null  object \n",
      " 1   Education             18355 non-null  object \n",
      " 2   Occupation            18355 non-null  object \n",
      " 3   Gender                18355 non-null  object \n",
      " 4   MaritalStatus         18355 non-null  object \n",
      " 5   HomeOwnerFlag         18355 non-null  int64  \n",
      " 6   NumberCarsOwned       18355 non-null  int64  \n",
      " 7   NumberChildrenAtHome  18355 non-null  int64  \n",
      " 8   TotalChildren         18355 non-null  int64  \n",
      " 9   YearlyIncome          18355 non-null  int64  \n",
      " 10  BikeBuyer             18355 non-null  float64\n",
      " 11  AvgMonthSpend         18355 non-null  float64\n",
      " 12  Age                   18355 non-null  int64  \n",
      "dtypes: float64(2), int64(6), object(5)\n",
      "memory usage: 1.8+ MB\n"
     ]
    }
   ],
   "source": [
    "# customer_na.csv 파일을 읽어서 customer_df에 저장하시오. 저장 후에 데이터의 특성을 탐색하시오.\n",
    "customer_df = pd.read_csv('../../data/customer_na.csv')\n",
    "customer_df.info()"
   ]
  },
  {
   "cell_type": "code",
   "execution_count": 6,
   "metadata": {},
   "outputs": [
    {
     "name": "stdout",
     "output_type": "stream",
     "text": [
      "['M' 'F']\n",
      "['M' 'S']\n"
     ]
    }
   ],
   "source": [
    "print(customer_df['Gender'].unique())\n",
    "print(customer_df['MaritalStatus'].unique())\n"
   ]
  },
  {
   "cell_type": "markdown",
   "metadata": {},
   "source": [
    "## One-hot Encoding "
   ]
  },
  {
   "cell_type": "markdown",
   "metadata": {},
   "source": [
    "2. Gender 값을 M은 0으로 F는 1로 변환하시오. MaritalStatus의 값을 M은 1로 S는 0으로 변환하시오. "
   ]
  },
  {
   "cell_type": "code",
   "execution_count": 7,
   "metadata": {},
   "outputs": [],
   "source": [
    "customer_df['Gender'] = customer_df['Gender'].apply(lambda x: 0 if x==\"M\" else 1)\n",
    "customer_df['MaritalStatus'] = customer_df['MaritalStatus'].apply(lambda x: 0 if x==\"S\" else 1)"
   ]
  },
  {
   "cell_type": "markdown",
   "metadata": {},
   "source": [
    "3. CountryRegionName, Education, Occupation에 대하여 one-hot encoding을 수행하시오."
   ]
  },
  {
   "cell_type": "code",
   "execution_count": 8,
   "metadata": {},
   "outputs": [],
   "source": [
    "# CountryRegionName, Education, Occupation에 대하여 one-hot encoding을 수행하시오.\n",
    "columns = ['CountryRegionName', 'Education', 'Occupation']\n",
    "\n",
    "customer_df = pd.get_dummies(customer_df, columns=columns)"
   ]
  },
  {
   "cell_type": "markdown",
   "metadata": {},
   "source": [
    "4. 모든 컬럼의 데이터 타입을 실수형으로 변환하시오."
   ]
  },
  {
   "cell_type": "code",
   "execution_count": 10,
   "metadata": {},
   "outputs": [
    {
     "name": "stdout",
     "output_type": "stream",
     "text": [
      "<class 'pandas.core.frame.DataFrame'>\n",
      "RangeIndex: 18355 entries, 0 to 18354\n",
      "Data columns (total 26 columns):\n",
      " #   Column                            Non-Null Count  Dtype  \n",
      "---  ------                            --------------  -----  \n",
      " 0   Gender                            18355 non-null  float64\n",
      " 1   MaritalStatus                     18355 non-null  float64\n",
      " 2   HomeOwnerFlag                     18355 non-null  float64\n",
      " 3   NumberCarsOwned                   18355 non-null  float64\n",
      " 4   NumberChildrenAtHome              18355 non-null  float64\n",
      " 5   TotalChildren                     18355 non-null  float64\n",
      " 6   YearlyIncome                      18355 non-null  float64\n",
      " 7   BikeBuyer                         18355 non-null  float64\n",
      " 8   AvgMonthSpend                     18355 non-null  float64\n",
      " 9   Age                               18355 non-null  float64\n",
      " 10  CountryRegionName_Australia       18355 non-null  float64\n",
      " 11  CountryRegionName_Canada          18355 non-null  float64\n",
      " 12  CountryRegionName_France          18355 non-null  float64\n",
      " 13  CountryRegionName_Germany         18355 non-null  float64\n",
      " 14  CountryRegionName_United Kingdom  18355 non-null  float64\n",
      " 15  CountryRegionName_United States   18355 non-null  float64\n",
      " 16  Education_Bachelors               18355 non-null  float64\n",
      " 17  Education_Graduate Degree         18355 non-null  float64\n",
      " 18  Education_High School             18355 non-null  float64\n",
      " 19  Education_Partial College         18355 non-null  float64\n",
      " 20  Education_Partial High School     18355 non-null  float64\n",
      " 21  Occupation_Clerical               18355 non-null  float64\n",
      " 22  Occupation_Management             18355 non-null  float64\n",
      " 23  Occupation_Manual                 18355 non-null  float64\n",
      " 24  Occupation_Professional           18355 non-null  float64\n",
      " 25  Occupation_Skilled Manual         18355 non-null  float64\n",
      "dtypes: float64(26)\n",
      "memory usage: 3.6 MB\n"
     ]
    }
   ],
   "source": [
    "customer_df = customer_df.astype('float')\n",
    "customer_df.info()"
   ]
  },
  {
   "cell_type": "markdown",
   "metadata": {},
   "source": [
    "5. 모든 변수들에 대하여 Min-Max Scaling을 수행하시오."
   ]
  },
  {
   "cell_type": "code",
   "execution_count": 11,
   "metadata": {},
   "outputs": [],
   "source": [
    "from sklearn.preprocessing import MinMaxScaler\n",
    "\n",
    "scaler = MinMaxScaler()\n",
    "scaler.fit(customer_df)\n",
    "customer_df_scaled_array = scaler.transform(customer_df)"
   ]
  },
  {
   "cell_type": "markdown",
   "metadata": {},
   "source": [
    "6. One-hot encoding과 Min-Max scaling이 완료된 데이터프레임을 customer_scaled.csv에 저장하시오. "
   ]
  },
  {
   "cell_type": "code",
   "execution_count": 12,
   "metadata": {},
   "outputs": [],
   "source": [
    "customer_df_scaled = pd.DataFrame(customer_df_scaled_array, columns=customer_df.columns)\n",
    "customer_df_scaled.to_csv('../../data/res/customer_scaled.csv')"
   ]
  }
 ],
 "metadata": {
  "kernelspec": {
   "display_name": "dm-3-12",
   "language": "python",
   "name": "python3"
  },
  "language_info": {
   "codemirror_mode": {
    "name": "ipython",
    "version": 3
   },
   "file_extension": ".py",
   "mimetype": "text/x-python",
   "name": "python",
   "nbconvert_exporter": "python",
   "pygments_lexer": "ipython3",
   "version": "3.9.16"
  }
 },
 "nbformat": 4,
 "nbformat_minor": 4
}
