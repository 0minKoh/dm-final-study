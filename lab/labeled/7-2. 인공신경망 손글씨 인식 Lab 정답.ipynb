{
 "cells": [
  {
   "cell_type": "markdown",
   "metadata": {},
   "source": [
    "# 인공신경망 손글씨 인식 Lab"
   ]
  },
  {
   "cell_type": "code",
   "execution_count": 3,
   "metadata": {},
   "outputs": [],
   "source": [
    "# 필요한 패키지 가져오기\n",
    "\n",
    "import tensorflow as tf\n",
    "import keras\n",
    "import matplotlib.pyplot as plt\n",
    "from keras.models import Sequential\n",
    "from keras.layers import Input, Dense, Dropout\n",
    "from tensorflow.keras.utils import to_categorical"
   ]
  },
  {
   "cell_type": "raw",
   "metadata": {},
   "source": [
    "1. 다음 파이썬 코드를 이용해서 cifar10 데이터 집합을 읽어들이시오."
   ]
  },
  {
   "cell_type": "code",
   "execution_count": 4,
   "metadata": {},
   "outputs": [
    {
     "name": "stdout",
     "output_type": "stream",
     "text": [
      "Downloading data from https://www.cs.toronto.edu/~kriz/cifar-10-python.tar.gz\n",
      "170498071/170498071 [==============================] - 49s 0us/step\n"
     ]
    }
   ],
   "source": [
    "# 데이터 가져오기\n",
    "\n",
    "import ssl\n",
    "ssl._create_default_https_context = ssl._create_unverified_context\n",
    "\n",
    "from keras.datasets import cifar10\n",
    "(x_train, y_train), (x_test, y_test) = cifar10.load_data()"
   ]
  },
  {
   "cell_type": "raw",
   "metadata": {},
   "source": [
    "2. 훈련데이터를 이용해서 인공신경망을 학습하시오.\n",
    "- 네트워크 구조, 학습 정의는 입력 노드수를 제외하고는 MNIST 사례와 동일하게 하시오."
   ]
  },
  {
   "cell_type": "code",
   "execution_count": 5,
   "metadata": {},
   "outputs": [],
   "source": [
    "# 하이퍼 파라미터 설정\n",
    "\n",
    "batch_size = 128\n",
    "num_classes = 10\n",
    "epochs = 10"
   ]
  },
  {
   "cell_type": "code",
   "execution_count": 6,
   "metadata": {},
   "outputs": [
    {
     "data": {
      "text/plain": [
       "(50000, 32, 32, 3)"
      ]
     },
     "execution_count": 6,
     "metadata": {},
     "output_type": "execute_result"
    }
   ],
   "source": [
    "x_train.shape"
   ]
  },
  {
   "cell_type": "code",
   "execution_count": 7,
   "metadata": {},
   "outputs": [
    {
     "name": "stdout",
     "output_type": "stream",
     "text": [
      "50000 train samples\n",
      "10000 test samples\n"
     ]
    }
   ],
   "source": [
    "# 데이터 전처리\n",
    "\n",
    "x_train = x_train.reshape(50000, 3072)\n",
    "x_test = x_test.reshape(10000, 3072)\n",
    "x_train = x_train.astype('float32')\n",
    "x_test = x_test.astype('float32')\n",
    "x_train /= 255\n",
    "x_test /= 255\n",
    "print(x_train.shape[0], 'train samples')\n",
    "print(x_test.shape[0], 'test samples')"
   ]
  },
  {
   "cell_type": "code",
   "execution_count": 8,
   "metadata": {},
   "outputs": [],
   "source": [
    "# 목표 변수 전처리 - one-hot 인코딩\n",
    "\n",
    "y_train = tf.keras.utils.to_categorical(y_train, num_classes)\n",
    "y_test = tf.keras.utils.to_categorical(y_test, num_classes)"
   ]
  },
  {
   "cell_type": "code",
   "execution_count": 9,
   "metadata": {},
   "outputs": [
    {
     "data": {
      "text/plain": [
       "(50000, 10)"
      ]
     },
     "execution_count": 9,
     "metadata": {},
     "output_type": "execute_result"
    }
   ],
   "source": [
    "y_train.shape"
   ]
  },
  {
   "cell_type": "code",
   "execution_count": 10,
   "metadata": {},
   "outputs": [
    {
     "name": "stdout",
     "output_type": "stream",
     "text": [
      "Model: \"sequential\"\n",
      "_________________________________________________________________\n",
      " Layer (type)                Output Shape              Param #   \n",
      "=================================================================\n",
      " dense (Dense)               (None, 512)               1573376   \n",
      "                                                                 \n",
      " dropout (Dropout)           (None, 512)               0         \n",
      "                                                                 \n",
      " dense_1 (Dense)             (None, 512)               262656    \n",
      "                                                                 \n",
      " dropout_1 (Dropout)         (None, 512)               0         \n",
      "                                                                 \n",
      " dense_2 (Dense)             (None, 10)                5130      \n",
      "                                                                 \n",
      "=================================================================\n",
      "Total params: 1841162 (7.02 MB)\n",
      "Trainable params: 1841162 (7.02 MB)\n",
      "Non-trainable params: 0 (0.00 Byte)\n",
      "_________________________________________________________________\n",
      "None\n"
     ]
    }
   ],
   "source": [
    "# 모형 구조 정의하기\n",
    "\n",
    "model = Sequential()\n",
    "model.add(Input(shape=(3072,)))\n",
    "model.add(Dense(512, activation='relu'))\n",
    "model.add(Dropout(0.2))\n",
    "model.add(Dense(512, activation='relu'))\n",
    "model.add(Dropout(0.2))\n",
    "model.add(Dense(10, activation='softmax'))\n",
    "print(model.summary())"
   ]
  },
  {
   "cell_type": "code",
   "execution_count": 11,
   "metadata": {},
   "outputs": [],
   "source": [
    "# 학습 정의하기\n",
    "\n",
    "model.compile(loss='categorical_crossentropy',\n",
    "              metrics=['accuracy'],\n",
    "              optimizer='adam')"
   ]
  },
  {
   "cell_type": "code",
   "execution_count": 12,
   "metadata": {},
   "outputs": [
    {
     "name": "stdout",
     "output_type": "stream",
     "text": [
      "Epoch 1/10\n",
      "274/274 [==============================] - 3s 10ms/step - loss: 1.9984 - accuracy: 0.2744 - val_loss: 1.8296 - val_accuracy: 0.3509\n",
      "Epoch 2/10\n",
      "274/274 [==============================] - 3s 10ms/step - loss: 1.8359 - accuracy: 0.3352 - val_loss: 1.7560 - val_accuracy: 0.3686\n",
      "Epoch 3/10\n",
      "274/274 [==============================] - 3s 11ms/step - loss: 1.7858 - accuracy: 0.3533 - val_loss: 1.7047 - val_accuracy: 0.3925\n",
      "Epoch 4/10\n",
      "274/274 [==============================] - 3s 12ms/step - loss: 1.7357 - accuracy: 0.3729 - val_loss: 1.6837 - val_accuracy: 0.3963\n",
      "Epoch 5/10\n",
      "274/274 [==============================] - 3s 11ms/step - loss: 1.7224 - accuracy: 0.3775 - val_loss: 1.6457 - val_accuracy: 0.4058\n",
      "Epoch 6/10\n",
      "274/274 [==============================] - 3s 11ms/step - loss: 1.6898 - accuracy: 0.3897 - val_loss: 1.6530 - val_accuracy: 0.4087\n",
      "Epoch 7/10\n",
      "274/274 [==============================] - 3s 11ms/step - loss: 1.6725 - accuracy: 0.3944 - val_loss: 1.6426 - val_accuracy: 0.4223\n",
      "Epoch 8/10\n",
      "274/274 [==============================] - 3s 11ms/step - loss: 1.6657 - accuracy: 0.3965 - val_loss: 1.6241 - val_accuracy: 0.4159\n",
      "Epoch 9/10\n",
      "274/274 [==============================] - 3s 12ms/step - loss: 1.6490 - accuracy: 0.4025 - val_loss: 1.6003 - val_accuracy: 0.4357\n",
      "Epoch 10/10\n",
      "274/274 [==============================] - 3s 12ms/step - loss: 1.6376 - accuracy: 0.4066 - val_loss: 1.6002 - val_accuracy: 0.4279\n"
     ]
    }
   ],
   "source": [
    "# 학습하기\n",
    "\n",
    "history = model.fit(x_train, y_train,\n",
    "                    batch_size=batch_size, epochs=epochs,\n",
    "                    verbose=1, validation_split=0.3)"
   ]
  },
  {
   "cell_type": "raw",
   "metadata": {},
   "source": [
    "3. 학습된 인공신경망의 성능을 테스트 집합을 통해서 확인하시오."
   ]
  },
  {
   "cell_type": "code",
   "execution_count": 13,
   "metadata": {},
   "outputs": [
    {
     "name": "stdout",
     "output_type": "stream",
     "text": [
      "Test loss: 1.5833560228347778\n",
      "Test accuracy: 0.4390000104904175\n"
     ]
    }
   ],
   "source": [
    "# 성능 평가하기\n",
    "\n",
    "score = model.evaluate(x_test, y_test, verbose=0)\n",
    "print('Test loss:', score[0])\n",
    "print('Test accuracy:', score[1])"
   ]
  },
  {
   "cell_type": "raw",
   "metadata": {},
   "source": [
    "4. 손실함수와 정확도를 그래프로 그리시오."
   ]
  },
  {
   "cell_type": "code",
   "execution_count": 14,
   "metadata": {},
   "outputs": [],
   "source": [
    "#성능 그래프로 그리기\n",
    "\n",
    "# graph\n",
    "acc = history.history['accuracy']\n",
    "val_acc = history.history['val_accuracy']\n",
    "loss = history.history['loss']\n",
    "val_loss = history.history['val_loss']"
   ]
  },
  {
   "cell_type": "code",
   "execution_count": 15,
   "metadata": {},
   "outputs": [
    {
     "data": {
      "image/png": "[encoded data removed]",
      "text/plain": [
       "<Figure size 640x480 with 1 Axes>"
      ]
     },
     "metadata": {},
     "output_type": "display_data"
    },
    {
     "data": {
      "text/plain": [
       "<Figure size 640x480 with 0 Axes>"
      ]
     },
     "metadata": {},
     "output_type": "display_data"
    }
   ],
   "source": [
    "epoch_range = range(1, len(acc) + 1)\n",
    "epoch_range\n",
    "plt.plot(epoch_range, loss, 'bo', label='Training loss')\n",
    "plt.plot(epoch_range, val_loss, 'b', label='Validation loss')\n",
    "plt.title('Training and validation loss')\n",
    "plt.xlabel('Epochs')\n",
    "plt.ylabel('Loss')\n",
    "plt.legend()\n",
    "plt.figure()\n",
    "plt.show()"
   ]
  },
  {
   "cell_type": "code",
   "execution_count": 16,
   "metadata": {},
   "outputs": [
    {
     "data": {
      "text/plain": [
       "<Figure size 640x480 with 0 Axes>"
      ]
     },
     "execution_count": 16,
     "metadata": {},
     "output_type": "execute_result"
    },
    {
     "data": {
      "image/png": "[encoded data removed]",
      "text/plain": [
       "<Figure size 640x480 with 1 Axes>"
      ]
     },
     "metadata": {},
     "output_type": "display_data"
    },
    {
     "data": {
      "text/plain": [
       "<Figure size 640x480 with 0 Axes>"
      ]
     },
     "metadata": {},
     "output_type": "display_data"
    }
   ],
   "source": [
    "plt.plot(epoch_range, acc, 'bo', label='Training acc')\n",
    "plt.plot(epoch_range, val_acc, 'b', label='Validation acc')\n",
    "plt.title('Training and validation accuracy')\n",
    "plt.xlabel('Epochs')\n",
    "plt.ylabel('Accuracy')\n",
    "plt.legend()\n",
    "plt.figure()"
   ]
  }
 ],
 "metadata": {
  "kernelspec": {
   "display_name": "dm-3-12",
   "language": "python",
   "name": "python3"
  },
  "language_info": {
   "codemirror_mode": {
    "name": "ipython",
    "version": 3
   },
   "file_extension": ".py",
   "mimetype": "text/x-python",
   "name": "python",
   "nbconvert_exporter": "python",
   "pygments_lexer": "ipython3",
   "version": "3.9.16"
  }
 },
 "nbformat": 4,
 "nbformat_minor": 4
}
