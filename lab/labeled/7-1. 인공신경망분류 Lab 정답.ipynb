{
 "cells": [
  {
   "cell_type": "markdown",
   "metadata": {},
   "source": [
    "# 모델생성과 성능평가 Lab"
   ]
  },
  {
   "cell_type": "markdown",
   "metadata": {},
   "source": [
    "1. customer_scaled.csv 파일을 읽어서 customer_df에 저장하시오. 저장 후에 데이터의 특성을 탐색하시오."
   ]
  },
  {
   "cell_type": "code",
   "execution_count": 3,
   "metadata": {},
   "outputs": [],
   "source": [
    "import pandas as pd \n",
    "\n",
    "# load data\n",
    "customer_df = pd.read_csv('../../data/customer_scaled.csv')"
   ]
  },
  {
   "cell_type": "code",
   "execution_count": 4,
   "metadata": {},
   "outputs": [
    {
     "data": {
      "text/plain": [
       "(18355, 26)"
      ]
     },
     "execution_count": 4,
     "metadata": {},
     "output_type": "execute_result"
    }
   ],
   "source": [
    "# shape of dataframe\n",
    "customer_df.shape"
   ]
  },
  {
   "cell_type": "code",
   "execution_count": 5,
   "metadata": {},
   "outputs": [
    {
     "data": {
      "text/plain": [
       "Gender                              float64\n",
       "MaritalStatus                       float64\n",
       "HomeOwnerFlag                       float64\n",
       "NumberCarsOwned                     float64\n",
       "NumberChildrenAtHome                float64\n",
       "TotalChildren                       float64\n",
       "YearlyIncome                        float64\n",
       "BikeBuyer                           float64\n",
       "AvgMonthSpend                       float64\n",
       "Age                                 float64\n",
       "CountryRegionName_Australia         float64\n",
       "CountryRegionName_Canada            float64\n",
       "CountryRegionName_France            float64\n",
       "CountryRegionName_Germany           float64\n",
       "CountryRegionName_United Kingdom    float64\n",
       "CountryRegionName_United States     float64\n",
       "Education_Bachelors                 float64\n",
       "Education_Graduate Degree           float64\n",
       "Education_High School               float64\n",
       "Education_Partial College           float64\n",
       "Education_Partial High School       float64\n",
       "Occupation_Clerical                 float64\n",
       "Occupation_Management               float64\n",
       "Occupation_Manual                   float64\n",
       "Occupation_Professional             float64\n",
       "Occupation_Skilled Manual           float64\n",
       "dtype: object"
      ]
     },
     "execution_count": 5,
     "metadata": {},
     "output_type": "execute_result"
    }
   ],
   "source": [
    "# dataframe dtypes for each feature\n",
    "customer_df.dtypes"
   ]
  },
  {
   "cell_type": "markdown",
   "metadata": {},
   "source": [
    "2. BikeBuyer를 제외한 컬럼으로 입력변수들로, BikeBuyer를 출력변수로 하고, 훈련 데이터와 테스트 데이터를 8:2로 분할하시오."
   ]
  },
  {
   "cell_type": "code",
   "execution_count": 6,
   "metadata": {},
   "outputs": [
    {
     "name": "stdout",
     "output_type": "stream",
     "text": [
      "train data set size = 14684,  test data set size = 3671\n"
     ]
    }
   ],
   "source": [
    "from sklearn.model_selection import train_test_split\n",
    "\n",
    "X_train, X_test, y_train, y_test = train_test_split(customer_df.drop(['BikeBuyer'],axis=1), customer_df['BikeBuyer'], test_size=0.2, random_state=42)\n",
    "print('train data set size = {0},  test data set size = {1}'.format(X_train.shape[0],X_test.shape[0]))"
   ]
  },
  {
   "cell_type": "markdown",
   "metadata": {},
   "source": [
    "3. 분류 모델의 성능을 출력하는 함수 get_clf_eval()을 작성하시오."
   ]
  },
  {
   "cell_type": "code",
   "execution_count": 7,
   "metadata": {},
   "outputs": [],
   "source": [
    "from sklearn.metrics import confusion_matrix\n",
    "from sklearn.metrics import precision_score , recall_score, accuracy_score\n",
    "\n",
    "def get_clf_eval(y_test,pred):\n",
    "    confusion = confusion_matrix(y_test,pred)\n",
    "    accuracy = accuracy_score(y_test,pred)\n",
    "    recall = recall_score(y_test,pred)\n",
    "    precision = precision_score(y_test,pred)\n",
    "    print('confusion matrix')\n",
    "    print(confusion)\n",
    "    print(\"정확도: {0:.4f}. 재현율: {1:.4f}, 정밀도: {2:.4f}\".format(accuracy, recall, precision))"
   ]
  },
  {
   "cell_type": "markdown",
   "metadata": {},
   "source": [
    "4. sklearn 패키지를 이용하여 MLP 모형을 만들고 분류 성능을 평가하시오(단 히든 레이어는 (8,8)로 하시오)."
   ]
  },
  {
   "cell_type": "code",
   "execution_count": 8,
   "metadata": {},
   "outputs": [],
   "source": [
    "from sklearn.neural_network import MLPClassifier\n",
    "\n",
    "mlp_clf = MLPClassifier(hidden_layer_sizes=(8,8), max_iter=300)\n",
    "mlp_clf.fit(X_train , y_train)\n",
    "mlp_pred = mlp_clf.predict(X_test)"
   ]
  },
  {
   "cell_type": "code",
   "execution_count": 9,
   "metadata": {},
   "outputs": [
    {
     "name": "stdout",
     "output_type": "stream",
     "text": [
      "confusion matrix\n",
      "[[ 707  968]\n",
      " [ 421 1575]]\n",
      "정확도: 0.6216. 재현율: 0.7891, 정밀도: 0.6193\n"
     ]
    }
   ],
   "source": [
    "get_clf_eval(y_test,mlp_pred)"
   ]
  },
  {
   "cell_type": "markdown",
   "metadata": {},
   "source": [
    "5. keras를 이용해서 인공신경망 모델을 정의하고 학습하시오(단 히든 레이어는 (8,8)로 하시오)."
   ]
  },
  {
   "cell_type": "code",
   "execution_count": 11,
   "metadata": {},
   "outputs": [
    {
     "name": "stdout",
     "output_type": "stream",
     "text": [
      "Model: \"sequential\"\n",
      "_________________________________________________________________\n",
      " Layer (type)                Output Shape              Param #   \n",
      "=================================================================\n",
      " dense (Dense)               (None, 8)                 208       \n",
      "                                                                 \n",
      " dense_1 (Dense)             (None, 8)                 72        \n",
      "                                                                 \n",
      " dense_2 (Dense)             (None, 1)                 9         \n",
      "                                                                 \n",
      "=================================================================\n",
      "Total params: 289 (1.13 KB)\n",
      "Trainable params: 289 (1.13 KB)\n",
      "Non-trainable params: 0 (0.00 Byte)\n",
      "_________________________________________________________________\n",
      "None\n"
     ]
    }
   ],
   "source": [
    "from keras import models\n",
    "from keras.layers import Input, Dense\n",
    "\n",
    "# 모델 정의\n",
    "model=models.Sequential()\n",
    "model.add(Input(shape=(X_train.shape[1],)))\n",
    "model.add(Dense(8, activation='relu'))\n",
    "model.add(Dense(8, activation='relu'))\n",
    "model.add(Dense(1,activation='sigmoid'))\n",
    "print(model.summary())"
   ]
  },
  {
   "cell_type": "code",
   "execution_count": 12,
   "metadata": {},
   "outputs": [],
   "source": [
    "# 학습 정의\n",
    "model.compile(optimizer='rmsprop', loss='binary_crossentropy', metrics=['accuracy'])"
   ]
  },
  {
   "cell_type": "code",
   "execution_count": 22,
   "metadata": {},
   "outputs": [
    {
     "name": "stdout",
     "output_type": "stream",
     "text": [
      "Epoch 1/100\n",
      "81/81 [==============================] - 0s 768us/step - loss: 0.5660 - accuracy: 0.6397 - val_loss: 0.6530 - val_accuracy: 0.6232\n",
      "Epoch 2/100\n",
      "81/81 [==============================] - 0s 525us/step - loss: 0.5661 - accuracy: 0.6370 - val_loss: 0.6535 - val_accuracy: 0.6278\n",
      "Epoch 3/100\n",
      "81/81 [==============================] - 0s 544us/step - loss: 0.5660 - accuracy: 0.6375 - val_loss: 0.6507 - val_accuracy: 0.6282\n",
      "Epoch 4/100\n",
      "81/81 [==============================] - 0s 536us/step - loss: 0.5661 - accuracy: 0.6375 - val_loss: 0.6570 - val_accuracy: 0.6219\n",
      "Epoch 5/100\n",
      "81/81 [==============================] - 0s 540us/step - loss: 0.5660 - accuracy: 0.6363 - val_loss: 0.6523 - val_accuracy: 0.6264\n",
      "Epoch 6/100\n",
      "81/81 [==============================] - 0s 623us/step - loss: 0.5660 - accuracy: 0.6354 - val_loss: 0.6536 - val_accuracy: 0.6251\n",
      "Epoch 7/100\n",
      "81/81 [==============================] - 0s 516us/step - loss: 0.5660 - accuracy: 0.6381 - val_loss: 0.6499 - val_accuracy: 0.6278\n",
      "Epoch 8/100\n",
      "81/81 [==============================] - 0s 524us/step - loss: 0.5661 - accuracy: 0.6382 - val_loss: 0.6516 - val_accuracy: 0.6246\n",
      "Epoch 9/100\n",
      "81/81 [==============================] - 0s 519us/step - loss: 0.5660 - accuracy: 0.6384 - val_loss: 0.6539 - val_accuracy: 0.6291\n",
      "Epoch 10/100\n",
      "81/81 [==============================] - 0s 527us/step - loss: 0.5660 - accuracy: 0.6355 - val_loss: 0.6550 - val_accuracy: 0.6262\n",
      "Epoch 11/100\n",
      "81/81 [==============================] - 0s 519us/step - loss: 0.5661 - accuracy: 0.6355 - val_loss: 0.6576 - val_accuracy: 0.6205\n",
      "Epoch 12/100\n",
      "81/81 [==============================] - 0s 533us/step - loss: 0.5660 - accuracy: 0.6361 - val_loss: 0.6528 - val_accuracy: 0.6271\n",
      "Epoch 13/100\n",
      "81/81 [==============================] - 0s 526us/step - loss: 0.5660 - accuracy: 0.6355 - val_loss: 0.6575 - val_accuracy: 0.6207\n",
      "Epoch 14/100\n",
      "81/81 [==============================] - 0s 524us/step - loss: 0.5658 - accuracy: 0.6376 - val_loss: 0.6557 - val_accuracy: 0.6223\n",
      "Epoch 15/100\n",
      "81/81 [==============================] - 0s 536us/step - loss: 0.5660 - accuracy: 0.6385 - val_loss: 0.6564 - val_accuracy: 0.6223\n",
      "Epoch 16/100\n",
      "81/81 [==============================] - 0s 524us/step - loss: 0.5661 - accuracy: 0.6365 - val_loss: 0.6550 - val_accuracy: 0.6237\n",
      "Epoch 17/100\n",
      "81/81 [==============================] - 0s 522us/step - loss: 0.5658 - accuracy: 0.6370 - val_loss: 0.6532 - val_accuracy: 0.6278\n",
      "Epoch 18/100\n",
      "81/81 [==============================] - 0s 510us/step - loss: 0.5660 - accuracy: 0.6392 - val_loss: 0.6535 - val_accuracy: 0.6273\n",
      "Epoch 19/100\n",
      "81/81 [==============================] - 0s 870us/step - loss: 0.5658 - accuracy: 0.6360 - val_loss: 0.6536 - val_accuracy: 0.6276\n",
      "Epoch 20/100\n",
      "81/81 [==============================] - 0s 513us/step - loss: 0.5658 - accuracy: 0.6381 - val_loss: 0.6527 - val_accuracy: 0.6291\n",
      "Epoch 21/100\n",
      "81/81 [==============================] - 0s 516us/step - loss: 0.5658 - accuracy: 0.6365 - val_loss: 0.6573 - val_accuracy: 0.6198\n",
      "Epoch 22/100\n",
      "81/81 [==============================] - 0s 509us/step - loss: 0.5658 - accuracy: 0.6366 - val_loss: 0.6544 - val_accuracy: 0.6241\n",
      "Epoch 23/100\n",
      "81/81 [==============================] - 0s 517us/step - loss: 0.5658 - accuracy: 0.6363 - val_loss: 0.6553 - val_accuracy: 0.6228\n",
      "Epoch 24/100\n",
      "81/81 [==============================] - 0s 511us/step - loss: 0.5658 - accuracy: 0.6378 - val_loss: 0.6579 - val_accuracy: 0.6217\n",
      "Epoch 25/100\n",
      "81/81 [==============================] - 0s 512us/step - loss: 0.5658 - accuracy: 0.6372 - val_loss: 0.6582 - val_accuracy: 0.6198\n",
      "Epoch 26/100\n",
      "81/81 [==============================] - 0s 509us/step - loss: 0.5659 - accuracy: 0.6361 - val_loss: 0.6546 - val_accuracy: 0.6246\n",
      "Epoch 27/100\n",
      "81/81 [==============================] - 0s 510us/step - loss: 0.5658 - accuracy: 0.6364 - val_loss: 0.6538 - val_accuracy: 0.6278\n",
      "Epoch 28/100\n",
      "81/81 [==============================] - 0s 510us/step - loss: 0.5660 - accuracy: 0.6375 - val_loss: 0.6573 - val_accuracy: 0.6232\n",
      "Epoch 29/100\n",
      "81/81 [==============================] - 0s 507us/step - loss: 0.5658 - accuracy: 0.6398 - val_loss: 0.6520 - val_accuracy: 0.6282\n",
      "Epoch 30/100\n",
      "81/81 [==============================] - 0s 509us/step - loss: 0.5659 - accuracy: 0.6384 - val_loss: 0.6573 - val_accuracy: 0.6217\n",
      "Epoch 31/100\n",
      "81/81 [==============================] - 0s 505us/step - loss: 0.5657 - accuracy: 0.6384 - val_loss: 0.6524 - val_accuracy: 0.6282\n",
      "Epoch 32/100\n",
      "81/81 [==============================] - 0s 514us/step - loss: 0.5658 - accuracy: 0.6405 - val_loss: 0.6594 - val_accuracy: 0.6194\n",
      "Epoch 33/100\n",
      "81/81 [==============================] - 0s 514us/step - loss: 0.5659 - accuracy: 0.6358 - val_loss: 0.6545 - val_accuracy: 0.6257\n",
      "Epoch 34/100\n",
      "81/81 [==============================] - 0s 512us/step - loss: 0.5657 - accuracy: 0.6356 - val_loss: 0.6552 - val_accuracy: 0.6276\n",
      "Epoch 35/100\n",
      "81/81 [==============================] - 0s 512us/step - loss: 0.5654 - accuracy: 0.6366 - val_loss: 0.6656 - val_accuracy: 0.6151\n",
      "Epoch 36/100\n",
      "81/81 [==============================] - 0s 513us/step - loss: 0.5656 - accuracy: 0.6378 - val_loss: 0.6549 - val_accuracy: 0.6230\n",
      "Epoch 37/100\n",
      "81/81 [==============================] - 0s 507us/step - loss: 0.5656 - accuracy: 0.6357 - val_loss: 0.6596 - val_accuracy: 0.6189\n",
      "Epoch 38/100\n",
      "81/81 [==============================] - 0s 503us/step - loss: 0.5659 - accuracy: 0.6367 - val_loss: 0.6548 - val_accuracy: 0.6273\n",
      "Epoch 39/100\n",
      "81/81 [==============================] - 0s 502us/step - loss: 0.5656 - accuracy: 0.6371 - val_loss: 0.6536 - val_accuracy: 0.6289\n",
      "Epoch 40/100\n",
      "81/81 [==============================] - 0s 513us/step - loss: 0.5658 - accuracy: 0.6370 - val_loss: 0.6511 - val_accuracy: 0.6289\n",
      "Epoch 41/100\n",
      "81/81 [==============================] - 0s 510us/step - loss: 0.5658 - accuracy: 0.6375 - val_loss: 0.6524 - val_accuracy: 0.6217\n",
      "Epoch 42/100\n",
      "81/81 [==============================] - 0s 506us/step - loss: 0.5657 - accuracy: 0.6385 - val_loss: 0.6532 - val_accuracy: 0.6241\n",
      "Epoch 43/100\n",
      "81/81 [==============================] - 0s 511us/step - loss: 0.5656 - accuracy: 0.6389 - val_loss: 0.6521 - val_accuracy: 0.6257\n",
      "Epoch 44/100\n",
      "81/81 [==============================] - 0s 639us/step - loss: 0.5657 - accuracy: 0.6380 - val_loss: 0.6541 - val_accuracy: 0.6266\n",
      "Epoch 45/100\n",
      "81/81 [==============================] - 0s 519us/step - loss: 0.5656 - accuracy: 0.6381 - val_loss: 0.6518 - val_accuracy: 0.6269\n",
      "Epoch 46/100\n",
      "81/81 [==============================] - 0s 524us/step - loss: 0.5656 - accuracy: 0.6393 - val_loss: 0.6514 - val_accuracy: 0.6273\n",
      "Epoch 47/100\n",
      "81/81 [==============================] - 0s 521us/step - loss: 0.5656 - accuracy: 0.6388 - val_loss: 0.6571 - val_accuracy: 0.6271\n",
      "Epoch 48/100\n",
      "81/81 [==============================] - 0s 512us/step - loss: 0.5655 - accuracy: 0.6401 - val_loss: 0.6561 - val_accuracy: 0.6255\n",
      "Epoch 49/100\n",
      "81/81 [==============================] - 0s 516us/step - loss: 0.5655 - accuracy: 0.6375 - val_loss: 0.6520 - val_accuracy: 0.6287\n",
      "Epoch 50/100\n",
      "81/81 [==============================] - 0s 534us/step - loss: 0.5657 - accuracy: 0.6394 - val_loss: 0.6535 - val_accuracy: 0.6289\n",
      "Epoch 51/100\n",
      "81/81 [==============================] - 0s 524us/step - loss: 0.5658 - accuracy: 0.6381 - val_loss: 0.6556 - val_accuracy: 0.6253\n",
      "Epoch 52/100\n",
      "81/81 [==============================] - 0s 517us/step - loss: 0.5656 - accuracy: 0.6387 - val_loss: 0.6629 - val_accuracy: 0.6201\n",
      "Epoch 53/100\n",
      "81/81 [==============================] - 0s 514us/step - loss: 0.5657 - accuracy: 0.6397 - val_loss: 0.6537 - val_accuracy: 0.6251\n",
      "Epoch 54/100\n",
      "81/81 [==============================] - 0s 526us/step - loss: 0.5657 - accuracy: 0.6369 - val_loss: 0.6564 - val_accuracy: 0.6244\n",
      "Epoch 55/100\n",
      "81/81 [==============================] - 0s 514us/step - loss: 0.5656 - accuracy: 0.6378 - val_loss: 0.6544 - val_accuracy: 0.6266\n",
      "Epoch 56/100\n",
      "81/81 [==============================] - 0s 511us/step - loss: 0.5657 - accuracy: 0.6375 - val_loss: 0.6558 - val_accuracy: 0.6255\n",
      "Epoch 57/100\n",
      "81/81 [==============================] - 0s 510us/step - loss: 0.5657 - accuracy: 0.6398 - val_loss: 0.6545 - val_accuracy: 0.6266\n",
      "Epoch 58/100\n",
      "81/81 [==============================] - 0s 557us/step - loss: 0.5655 - accuracy: 0.6382 - val_loss: 0.6555 - val_accuracy: 0.6255\n",
      "Epoch 59/100\n",
      "81/81 [==============================] - 0s 527us/step - loss: 0.5654 - accuracy: 0.6391 - val_loss: 0.6590 - val_accuracy: 0.6182\n",
      "Epoch 60/100\n",
      "81/81 [==============================] - 0s 521us/step - loss: 0.5657 - accuracy: 0.6361 - val_loss: 0.6595 - val_accuracy: 0.6189\n",
      "Epoch 61/100\n",
      "81/81 [==============================] - 0s 524us/step - loss: 0.5657 - accuracy: 0.6382 - val_loss: 0.6556 - val_accuracy: 0.6248\n",
      "Epoch 62/100\n",
      "81/81 [==============================] - 0s 513us/step - loss: 0.5657 - accuracy: 0.6371 - val_loss: 0.6556 - val_accuracy: 0.6235\n",
      "Epoch 63/100\n",
      "81/81 [==============================] - 0s 521us/step - loss: 0.5656 - accuracy: 0.6379 - val_loss: 0.6589 - val_accuracy: 0.6207\n",
      "Epoch 64/100\n",
      "81/81 [==============================] - 0s 541us/step - loss: 0.5658 - accuracy: 0.6376 - val_loss: 0.6547 - val_accuracy: 0.6253\n",
      "Epoch 65/100\n",
      "81/81 [==============================] - 0s 532us/step - loss: 0.5655 - accuracy: 0.6384 - val_loss: 0.6529 - val_accuracy: 0.6287\n",
      "Epoch 66/100\n",
      "81/81 [==============================] - 0s 523us/step - loss: 0.5656 - accuracy: 0.6379 - val_loss: 0.6566 - val_accuracy: 0.6226\n",
      "Epoch 67/100\n",
      "81/81 [==============================] - 0s 529us/step - loss: 0.5656 - accuracy: 0.6366 - val_loss: 0.6594 - val_accuracy: 0.6194\n",
      "Epoch 68/100\n",
      "81/81 [==============================] - 0s 527us/step - loss: 0.5655 - accuracy: 0.6387 - val_loss: 0.6560 - val_accuracy: 0.6241\n",
      "Epoch 69/100\n",
      "81/81 [==============================] - 0s 526us/step - loss: 0.5656 - accuracy: 0.6374 - val_loss: 0.6576 - val_accuracy: 0.6226\n",
      "Epoch 70/100\n",
      "81/81 [==============================] - 0s 519us/step - loss: 0.5654 - accuracy: 0.6367 - val_loss: 0.6514 - val_accuracy: 0.6237\n",
      "Epoch 71/100\n",
      "81/81 [==============================] - 0s 517us/step - loss: 0.5655 - accuracy: 0.6374 - val_loss: 0.6525 - val_accuracy: 0.6289\n",
      "Epoch 72/100\n",
      "81/81 [==============================] - 0s 514us/step - loss: 0.5653 - accuracy: 0.6372 - val_loss: 0.6567 - val_accuracy: 0.6257\n",
      "Epoch 73/100\n",
      "81/81 [==============================] - 0s 521us/step - loss: 0.5657 - accuracy: 0.6375 - val_loss: 0.6551 - val_accuracy: 0.6289\n",
      "Epoch 74/100\n",
      "81/81 [==============================] - 0s 864us/step - loss: 0.5656 - accuracy: 0.6374 - val_loss: 0.6533 - val_accuracy: 0.6239\n",
      "Epoch 75/100\n",
      "81/81 [==============================] - 0s 518us/step - loss: 0.5652 - accuracy: 0.6402 - val_loss: 0.6640 - val_accuracy: 0.6142\n",
      "Epoch 76/100\n",
      "81/81 [==============================] - 0s 521us/step - loss: 0.5656 - accuracy: 0.6386 - val_loss: 0.6584 - val_accuracy: 0.6217\n",
      "Epoch 77/100\n",
      "81/81 [==============================] - 0s 512us/step - loss: 0.5656 - accuracy: 0.6396 - val_loss: 0.6552 - val_accuracy: 0.6246\n",
      "Epoch 78/100\n",
      "81/81 [==============================] - 0s 514us/step - loss: 0.5654 - accuracy: 0.6397 - val_loss: 0.6531 - val_accuracy: 0.6271\n",
      "Epoch 79/100\n",
      "81/81 [==============================] - 0s 518us/step - loss: 0.5656 - accuracy: 0.6382 - val_loss: 0.6539 - val_accuracy: 0.6291\n",
      "Epoch 80/100\n",
      "81/81 [==============================] - 0s 531us/step - loss: 0.5655 - accuracy: 0.6394 - val_loss: 0.6564 - val_accuracy: 0.6232\n",
      "Epoch 81/100\n",
      "81/81 [==============================] - 0s 514us/step - loss: 0.5655 - accuracy: 0.6362 - val_loss: 0.6559 - val_accuracy: 0.6228\n",
      "Epoch 82/100\n",
      "81/81 [==============================] - 0s 518us/step - loss: 0.5655 - accuracy: 0.6386 - val_loss: 0.6536 - val_accuracy: 0.6303\n",
      "Epoch 83/100\n",
      "81/81 [==============================] - 0s 514us/step - loss: 0.5656 - accuracy: 0.6385 - val_loss: 0.6550 - val_accuracy: 0.6273\n",
      "Epoch 84/100\n",
      "81/81 [==============================] - 0s 513us/step - loss: 0.5654 - accuracy: 0.6407 - val_loss: 0.6574 - val_accuracy: 0.6246\n",
      "Epoch 85/100\n",
      "81/81 [==============================] - 0s 511us/step - loss: 0.5654 - accuracy: 0.6404 - val_loss: 0.6557 - val_accuracy: 0.6266\n",
      "Epoch 86/100\n",
      "81/81 [==============================] - 0s 511us/step - loss: 0.5654 - accuracy: 0.6387 - val_loss: 0.6537 - val_accuracy: 0.6273\n",
      "Epoch 87/100\n",
      "81/81 [==============================] - 0s 510us/step - loss: 0.5656 - accuracy: 0.6360 - val_loss: 0.6551 - val_accuracy: 0.6269\n",
      "Epoch 88/100\n",
      "81/81 [==============================] - 0s 512us/step - loss: 0.5654 - accuracy: 0.6400 - val_loss: 0.6567 - val_accuracy: 0.6239\n",
      "Epoch 89/100\n",
      "81/81 [==============================] - 0s 520us/step - loss: 0.5651 - accuracy: 0.6374 - val_loss: 0.6547 - val_accuracy: 0.6251\n",
      "Epoch 90/100\n",
      "81/81 [==============================] - 0s 518us/step - loss: 0.5653 - accuracy: 0.6400 - val_loss: 0.6584 - val_accuracy: 0.6219\n",
      "Epoch 91/100\n",
      "81/81 [==============================] - 0s 519us/step - loss: 0.5653 - accuracy: 0.6382 - val_loss: 0.6546 - val_accuracy: 0.6276\n",
      "Epoch 92/100\n",
      "81/81 [==============================] - 0s 512us/step - loss: 0.5655 - accuracy: 0.6387 - val_loss: 0.6571 - val_accuracy: 0.6260\n",
      "Epoch 93/100\n",
      "81/81 [==============================] - 0s 511us/step - loss: 0.5653 - accuracy: 0.6382 - val_loss: 0.6558 - val_accuracy: 0.6235\n",
      "Epoch 94/100\n",
      "81/81 [==============================] - 0s 523us/step - loss: 0.5655 - accuracy: 0.6398 - val_loss: 0.6614 - val_accuracy: 0.6167\n",
      "Epoch 95/100\n",
      "81/81 [==============================] - 0s 534us/step - loss: 0.5654 - accuracy: 0.6400 - val_loss: 0.6549 - val_accuracy: 0.6260\n",
      "Epoch 96/100\n",
      "81/81 [==============================] - 0s 523us/step - loss: 0.5655 - accuracy: 0.6396 - val_loss: 0.6574 - val_accuracy: 0.6239\n",
      "Epoch 97/100\n",
      "81/81 [==============================] - 0s 520us/step - loss: 0.5651 - accuracy: 0.6382 - val_loss: 0.6584 - val_accuracy: 0.6241\n",
      "Epoch 98/100\n",
      "81/81 [==============================] - 0s 525us/step - loss: 0.5654 - accuracy: 0.6395 - val_loss: 0.6527 - val_accuracy: 0.6285\n",
      "Epoch 99/100\n",
      "81/81 [==============================] - 0s 548us/step - loss: 0.5654 - accuracy: 0.6417 - val_loss: 0.6534 - val_accuracy: 0.6271\n",
      "Epoch 100/100\n",
      "81/81 [==============================] - 0s 533us/step - loss: 0.5654 - accuracy: 0.6393 - val_loss: 0.6552 - val_accuracy: 0.6276\n"
     ]
    }
   ],
   "source": [
    "# 학습하기\n",
    "history=model.fit(\n",
    "  X_train,y_train,\n",
    "  epochs=200,batch_size=128,\n",
    "  validation_split=0.3, class_weight={0:1,1:0.81}\n",
    ")"
   ]
  },
  {
   "cell_type": "markdown",
   "metadata": {},
   "source": [
    "7. 학습 중 Loss 함수를 그리시오. "
   ]
  },
  {
   "cell_type": "code",
   "execution_count": 15,
   "metadata": {},
   "outputs": [
    {
     "name": "stdout",
     "output_type": "stream",
     "text": [
      "dict_keys(['loss', 'accuracy', 'val_loss', 'val_accuracy'])\n"
     ]
    }
   ],
   "source": [
    "history_dict=history.history\n",
    "print(history_dict.keys())"
   ]
  },
  {
   "cell_type": "code",
   "execution_count": 23,
   "metadata": {},
   "outputs": [
    {
     "data": {
      "image/png": "[encoded data removed]",
      "text/plain": [
       "<Figure size 640x480 with 1 Axes>"
      ]
     },
     "metadata": {},
     "output_type": "display_data"
    }
   ],
   "source": [
    "import matplotlib.pyplot as plt \n",
    "\n",
    "acc=history.history['accuracy']\n",
    "val_acc=history.history['val_accuracy']\n",
    "loss=history.history['loss']\n",
    "val_loss=history.history['val_loss']\n",
    "\n",
    "# x축 정의\n",
    "epochs=range(1,len(acc)+1)\n",
    "\n",
    "# Loss 함수 그리기\n",
    "plt.plot(epochs,loss,'bo',label='Training loss')\n",
    "plt.plot(epochs,val_loss,'b',label='Validation loss')\n",
    "plt.title('Training and validation loss')\n",
    "plt.xlabel('Epochs')\n",
    "plt.legend()\n",
    "plt.show()"
   ]
  },
  {
   "cell_type": "markdown",
   "metadata": {},
   "source": [
    "8. 학습 중 정확도 함수를 그리시오."
   ]
  },
  {
   "cell_type": "code",
   "execution_count": 24,
   "metadata": {},
   "outputs": [
    {
     "data": {
      "image/png": "[encoded data removed]",
      "text/plain": [
       "<Figure size 640x480 with 1 Axes>"
      ]
     },
     "metadata": {},
     "output_type": "display_data"
    }
   ],
   "source": [
    "# 정확도 그리기\n",
    "plt.plot(epochs,acc,'bo',label='Training accuracy')\n",
    "plt.plot(epochs,val_acc,'b',label='Validation accuracy')\n",
    "plt.title('Training and validation Accuracy')\n",
    "plt.xlabel('Epochs')\n",
    "plt.legend()\n",
    "plt.show()"
   ]
  },
  {
   "cell_type": "markdown",
   "metadata": {},
   "source": [
    "9. 테스트 데이터 집합에 대한 성능을 확인하시오."
   ]
  },
  {
   "cell_type": "code",
   "execution_count": 25,
   "metadata": {},
   "outputs": [
    {
     "name": "stdout",
     "output_type": "stream",
     "text": [
      "115/115 [==============================] - 0s 234us/step\n"
     ]
    },
    {
     "data": {
      "text/plain": [
       "(3671, 1)"
      ]
     },
     "execution_count": 25,
     "metadata": {},
     "output_type": "execute_result"
    }
   ],
   "source": [
    "# 예측\n",
    "predicted_result=model.predict(X_test)\n",
    "predicted_result.shape"
   ]
  },
  {
   "cell_type": "code",
   "execution_count": 27,
   "metadata": {},
   "outputs": [],
   "source": [
    "predicted_target=pd.Series([1 if predicted_result[i]> 0.5 \\\n",
    "        else 0 for i in range(0,predicted_result.shape[0])])"
   ]
  },
  {
   "cell_type": "code",
   "execution_count": 28,
   "metadata": {},
   "outputs": [
    {
     "name": "stdout",
     "output_type": "stream",
     "text": [
      "confusion matrix\n",
      "[[ 896  779]\n",
      " [ 617 1379]]\n",
      "정확도: 0.6197. 재현율: 0.6909, 정밀도: 0.6390\n"
     ]
    }
   ],
   "source": [
    "get_clf_eval(y_test,predicted_target)"
   ]
  },
  {
   "cell_type": "code",
   "execution_count": null,
   "metadata": {},
   "outputs": [],
   "source": []
  }
 ],
 "metadata": {
  "kernelspec": {
   "display_name": "dm-3-12",
   "language": "python",
   "name": "python3"
  },
  "language_info": {
   "codemirror_mode": {
    "name": "ipython",
    "version": 3
   },
   "file_extension": ".py",
   "mimetype": "text/x-python",
   "name": "python",
   "nbconvert_exporter": "python",
   "pygments_lexer": "ipython3",
   "version": "3.9.16"
  }
 },
 "nbformat": 4,
 "nbformat_minor": 4
}
