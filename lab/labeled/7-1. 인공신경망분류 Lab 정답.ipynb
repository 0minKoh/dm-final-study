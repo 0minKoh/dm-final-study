{
 "cells": [
  {
   "cell_type": "markdown",
   "metadata": {},
   "source": [
    "# 모델생성과 성능평가 Lab"
   ]
  },
  {
   "cell_type": "code",
   "execution_count": 5,
   "metadata": {},
   "outputs": [],
   "source": [
    "import numpy as np \n",
    "import pandas as pd \n",
    "import os"
   ]
  },
  {
   "cell_type": "markdown",
   "metadata": {},
   "source": [
    "1. customer_scaled.csv 파일을 읽어서 customer_df에 저장하시오. 저장 후에 데이터의 특성을 탐색하시오."
   ]
  },
  {
   "cell_type": "code",
   "execution_count": 6,
   "metadata": {},
   "outputs": [],
   "source": [
    "# load data\n",
    "customer_df = pd.read_csv('../../data/customer_scaled.csv')"
   ]
  },
  {
   "cell_type": "code",
   "execution_count": 7,
   "metadata": {},
   "outputs": [
    {
     "data": {
      "text/plain": [
       "(18355, 26)"
      ]
     },
     "execution_count": 7,
     "metadata": {},
     "output_type": "execute_result"
    }
   ],
   "source": [
    "# shape of dataframe\n",
    "customer_df.shape"
   ]
  },
  {
   "cell_type": "code",
   "execution_count": 8,
   "metadata": {},
   "outputs": [
    {
     "data": {
      "text/plain": [
       "Gender                              float64\n",
       "MaritalStatus                       float64\n",
       "HomeOwnerFlag                       float64\n",
       "NumberCarsOwned                     float64\n",
       "NumberChildrenAtHome                float64\n",
       "TotalChildren                       float64\n",
       "YearlyIncome                        float64\n",
       "BikeBuyer                           float64\n",
       "AvgMonthSpend                       float64\n",
       "Age                                 float64\n",
       "CountryRegionName_Australia         float64\n",
       "CountryRegionName_Canada            float64\n",
       "CountryRegionName_France            float64\n",
       "CountryRegionName_Germany           float64\n",
       "CountryRegionName_United Kingdom    float64\n",
       "CountryRegionName_United States     float64\n",
       "Education_Bachelors                 float64\n",
       "Education_Graduate Degree           float64\n",
       "Education_High School               float64\n",
       "Education_Partial College           float64\n",
       "Education_Partial High School       float64\n",
       "Occupation_Clerical                 float64\n",
       "Occupation_Management               float64\n",
       "Occupation_Manual                   float64\n",
       "Occupation_Professional             float64\n",
       "Occupation_Skilled Manual           float64\n",
       "dtype: object"
      ]
     },
     "execution_count": 8,
     "metadata": {},
     "output_type": "execute_result"
    }
   ],
   "source": [
    "# dataframe dtypes for each feature\n",
    "customer_df.dtypes"
   ]
  },
  {
   "cell_type": "markdown",
   "metadata": {},
   "source": [
    "2. BikeBuyer를 제외한 컬럼으로 입력변수들로, BikeBuyer를 출력변수로 하고, 훈련 데이터와 테스트 데이터를 8:2로 분할하시오."
   ]
  },
  {
   "cell_type": "code",
   "execution_count": 9,
   "metadata": {},
   "outputs": [],
   "source": [
    "from sklearn.model_selection import train_test_split"
   ]
  },
  {
   "cell_type": "code",
   "execution_count": 10,
   "metadata": {},
   "outputs": [
    {
     "name": "stdout",
     "output_type": "stream",
     "text": [
      "train data set size = 14684,  test data set size = 3671\n"
     ]
    }
   ],
   "source": [
    "X_train, X_test, y_train, y_test = train_test_split(customer_df.drop(['BikeBuyer'],axis=1), customer_df['BikeBuyer'], test_size=0.2, random_state=42)\n",
    "print('train data set size = {0},  test data set size = {1}'.format(X_train.shape[0],X_test.shape[0]))"
   ]
  },
  {
   "cell_type": "markdown",
   "metadata": {},
   "source": [
    "3. 분류 모델의 성능을 출력하는 함수 get_clf_eval()을 작성하시오."
   ]
  },
  {
   "cell_type": "code",
   "execution_count": 11,
   "metadata": {},
   "outputs": [],
   "source": [
    "from sklearn.metrics import confusion_matrix\n",
    "from sklearn.metrics import precision_score , recall_score, accuracy_score\n",
    "\n",
    "def get_clf_eval(y_test,pred):\n",
    "    confusion = confusion_matrix(y_test,pred)\n",
    "    accuracy = accuracy_score(y_test,pred)\n",
    "    recall = recall_score(y_test,pred)\n",
    "    precision = precision_score(y_test,pred)\n",
    "    print('confusion matrix')\n",
    "    print(confusion)\n",
    "    print(\"정확도: {0:.4f}. 재현율: {1:.4f}, 정밀도: {2:.4f}\".format(accuracy, recall, precision))"
   ]
  },
  {
   "cell_type": "markdown",
   "metadata": {},
   "source": [
    "4. sklearn 패키지를 이용하여 MLP 모형을 만들고 분류 성능을 평가하시오(단 히든 레이어는 (8,8)로 하시오)."
   ]
  },
  {
   "cell_type": "code",
   "execution_count": 12,
   "metadata": {},
   "outputs": [],
   "source": [
    "from sklearn.neural_network import MLPClassifier"
   ]
  },
  {
   "cell_type": "code",
   "execution_count": 13,
   "metadata": {},
   "outputs": [],
   "source": [
    "mlp_clf = MLPClassifier(hidden_layer_sizes=(8,8), max_iter=300)\n",
    "mlp_clf.fit(X_train , y_train)\n",
    "mlp_pred = mlp_clf.predict(X_test)"
   ]
  },
  {
   "cell_type": "code",
   "execution_count": 14,
   "metadata": {},
   "outputs": [
    {
     "name": "stdout",
     "output_type": "stream",
     "text": [
      "confusion matrix\n",
      "[[ 725  950]\n",
      " [ 456 1540]]\n",
      "정확도: 0.6170. 재현율: 0.7715, 정밀도: 0.6185\n"
     ]
    }
   ],
   "source": [
    "get_clf_eval(y_test,mlp_pred)"
   ]
  },
  {
   "cell_type": "markdown",
   "metadata": {},
   "source": [
    "5. keras를 이용해서 인공신경망 모델을 정의하고 학습하시오(단 히든 레이어는 (8,8)로 하시오)."
   ]
  },
  {
   "cell_type": "code",
   "execution_count": 15,
   "metadata": {},
   "outputs": [],
   "source": [
    "from keras import models\n",
    "from keras.layers import Input, Dense"
   ]
  },
  {
   "cell_type": "code",
   "execution_count": 16,
   "metadata": {},
   "outputs": [
    {
     "name": "stdout",
     "output_type": "stream",
     "text": [
      "Model: \"sequential\"\n",
      "_________________________________________________________________\n",
      " Layer (type)                Output Shape              Param #   \n",
      "=================================================================\n",
      " dense (Dense)               (None, 8)                 208       \n",
      "                                                                 \n",
      " dense_1 (Dense)             (None, 8)                 72        \n",
      "                                                                 \n",
      " dense_2 (Dense)             (None, 1)                 9         \n",
      "                                                                 \n",
      "=================================================================\n",
      "Total params: 289 (1.13 KB)\n",
      "Trainable params: 289 (1.13 KB)\n",
      "Non-trainable params: 0 (0.00 Byte)\n",
      "_________________________________________________________________\n",
      "None\n"
     ]
    }
   ],
   "source": [
    "# 모델 정의\n",
    "model=models.Sequential()\n",
    "model.add(Input(shape=(X_train.shape[1],)))\n",
    "model.add(Dense(8, activation='relu'))\n",
    "model.add(Dense(8, activation='relu'))\n",
    "model.add(Dense(1,activation='sigmoid'))\n",
    "print(model.summary())"
   ]
  },
  {
   "cell_type": "code",
   "execution_count": 17,
   "metadata": {},
   "outputs": [],
   "source": [
    "# 학습 정의\n",
    "model.compile(optimizer='rmsprop', loss='binary_crossentropy', metrics=['accuracy'])"
   ]
  },
  {
   "cell_type": "code",
   "execution_count": 18,
   "metadata": {},
   "outputs": [
    {
     "name": "stdout",
     "output_type": "stream",
     "text": [
      "Epoch 1/200\n",
      "81/81 [==============================] - 0s 2ms/step - loss: 0.6197 - accuracy: 0.4962 - val_loss: 0.6913 - val_accuracy: 0.5315\n",
      "Epoch 2/200\n",
      "81/81 [==============================] - 0s 890us/step - loss: 0.6183 - accuracy: 0.5331 - val_loss: 0.6901 - val_accuracy: 0.5452\n",
      "Epoch 3/200\n",
      "81/81 [==============================] - 0s 921us/step - loss: 0.6172 - accuracy: 0.5419 - val_loss: 0.6883 - val_accuracy: 0.5449\n",
      "Epoch 4/200\n",
      "81/81 [==============================] - 0s 992us/step - loss: 0.6158 - accuracy: 0.5522 - val_loss: 0.6875 - val_accuracy: 0.5502\n",
      "Epoch 5/200\n",
      "81/81 [==============================] - 0s 999us/step - loss: 0.6139 - accuracy: 0.5497 - val_loss: 0.6833 - val_accuracy: 0.5708\n",
      "Epoch 6/200\n",
      "81/81 [==============================] - 0s 911us/step - loss: 0.6118 - accuracy: 0.5703 - val_loss: 0.6829 - val_accuracy: 0.5649\n",
      "Epoch 7/200\n",
      "81/81 [==============================] - 0s 939us/step - loss: 0.6088 - accuracy: 0.5756 - val_loss: 0.6860 - val_accuracy: 0.5415\n",
      "Epoch 8/200\n",
      "81/81 [==============================] - 0s 947us/step - loss: 0.6055 - accuracy: 0.5747 - val_loss: 0.6767 - val_accuracy: 0.5803\n",
      "Epoch 9/200\n",
      "81/81 [==============================] - 0s 931us/step - loss: 0.6014 - accuracy: 0.5895 - val_loss: 0.6740 - val_accuracy: 0.5822\n",
      "Epoch 10/200\n",
      "81/81 [==============================] - 0s 919us/step - loss: 0.5971 - accuracy: 0.5958 - val_loss: 0.6702 - val_accuracy: 0.5817\n",
      "Epoch 11/200\n",
      "81/81 [==============================] - 0s 959us/step - loss: 0.5927 - accuracy: 0.6051 - val_loss: 0.6664 - val_accuracy: 0.5874\n",
      "Epoch 12/200\n",
      "81/81 [==============================] - 0s 941us/step - loss: 0.5889 - accuracy: 0.6091 - val_loss: 0.6583 - val_accuracy: 0.6078\n",
      "Epoch 13/200\n",
      "81/81 [==============================] - 0s 933us/step - loss: 0.5860 - accuracy: 0.6101 - val_loss: 0.6587 - val_accuracy: 0.6026\n",
      "Epoch 14/200\n",
      "81/81 [==============================] - 0s 888us/step - loss: 0.5842 - accuracy: 0.6137 - val_loss: 0.6578 - val_accuracy: 0.6030\n",
      "Epoch 15/200\n",
      "81/81 [==============================] - 0s 919us/step - loss: 0.5827 - accuracy: 0.6097 - val_loss: 0.6562 - val_accuracy: 0.6076\n",
      "Epoch 16/200\n",
      "81/81 [==============================] - 0s 918us/step - loss: 0.5817 - accuracy: 0.6129 - val_loss: 0.6566 - val_accuracy: 0.6044\n",
      "Epoch 17/200\n",
      "81/81 [==============================] - 0s 876us/step - loss: 0.5812 - accuracy: 0.6143 - val_loss: 0.6577 - val_accuracy: 0.6030\n",
      "Epoch 18/200\n",
      "81/81 [==============================] - 0s 856us/step - loss: 0.5803 - accuracy: 0.6137 - val_loss: 0.6516 - val_accuracy: 0.6142\n",
      "Epoch 19/200\n",
      "81/81 [==============================] - 0s 861us/step - loss: 0.5800 - accuracy: 0.6157 - val_loss: 0.6554 - val_accuracy: 0.6044\n",
      "Epoch 20/200\n",
      "81/81 [==============================] - 0s 866us/step - loss: 0.5798 - accuracy: 0.6184 - val_loss: 0.6562 - val_accuracy: 0.6019\n",
      "Epoch 21/200\n",
      "81/81 [==============================] - 0s 862us/step - loss: 0.5794 - accuracy: 0.6179 - val_loss: 0.6524 - val_accuracy: 0.6146\n",
      "Epoch 22/200\n",
      "81/81 [==============================] - 0s 848us/step - loss: 0.5792 - accuracy: 0.6173 - val_loss: 0.6535 - val_accuracy: 0.6089\n",
      "Epoch 23/200\n",
      "81/81 [==============================] - 0s 858us/step - loss: 0.5789 - accuracy: 0.6163 - val_loss: 0.6524 - val_accuracy: 0.6114\n",
      "Epoch 24/200\n",
      "81/81 [==============================] - 0s 856us/step - loss: 0.5787 - accuracy: 0.6198 - val_loss: 0.6609 - val_accuracy: 0.5999\n",
      "Epoch 25/200\n",
      "81/81 [==============================] - 0s 866us/step - loss: 0.5784 - accuracy: 0.6181 - val_loss: 0.6548 - val_accuracy: 0.6071\n",
      "Epoch 26/200\n",
      "81/81 [==============================] - 0s 860us/step - loss: 0.5781 - accuracy: 0.6170 - val_loss: 0.6467 - val_accuracy: 0.6253\n",
      "Epoch 27/200\n",
      "81/81 [==============================] - 0s 850us/step - loss: 0.5783 - accuracy: 0.6205 - val_loss: 0.6495 - val_accuracy: 0.6189\n",
      "Epoch 28/200\n",
      "81/81 [==============================] - 0s 1ms/step - loss: 0.5778 - accuracy: 0.6179 - val_loss: 0.6497 - val_accuracy: 0.6205\n",
      "Epoch 29/200\n",
      "81/81 [==============================] - 0s 854us/step - loss: 0.5778 - accuracy: 0.6182 - val_loss: 0.6538 - val_accuracy: 0.6105\n",
      "Epoch 30/200\n",
      "81/81 [==============================] - 0s 871us/step - loss: 0.5774 - accuracy: 0.6197 - val_loss: 0.6468 - val_accuracy: 0.6253\n",
      "Epoch 31/200\n",
      "81/81 [==============================] - 0s 851us/step - loss: 0.5775 - accuracy: 0.6202 - val_loss: 0.6499 - val_accuracy: 0.6167\n",
      "Epoch 32/200\n",
      "81/81 [==============================] - 0s 862us/step - loss: 0.5774 - accuracy: 0.6196 - val_loss: 0.6522 - val_accuracy: 0.6146\n",
      "Epoch 33/200\n",
      "81/81 [==============================] - 0s 864us/step - loss: 0.5772 - accuracy: 0.6206 - val_loss: 0.6511 - val_accuracy: 0.6176\n",
      "Epoch 34/200\n",
      "81/81 [==============================] - 0s 860us/step - loss: 0.5768 - accuracy: 0.6205 - val_loss: 0.6578 - val_accuracy: 0.6019\n",
      "Epoch 35/200\n",
      "81/81 [==============================] - 0s 861us/step - loss: 0.5769 - accuracy: 0.6221 - val_loss: 0.6515 - val_accuracy: 0.6164\n",
      "Epoch 36/200\n",
      "81/81 [==============================] - 0s 865us/step - loss: 0.5768 - accuracy: 0.6198 - val_loss: 0.6489 - val_accuracy: 0.6219\n",
      "Epoch 37/200\n",
      "81/81 [==============================] - 0s 862us/step - loss: 0.5766 - accuracy: 0.6232 - val_loss: 0.6494 - val_accuracy: 0.6171\n",
      "Epoch 38/200\n",
      "81/81 [==============================] - 0s 855us/step - loss: 0.5762 - accuracy: 0.6204 - val_loss: 0.6493 - val_accuracy: 0.6178\n",
      "Epoch 39/200\n",
      "81/81 [==============================] - 0s 858us/step - loss: 0.5762 - accuracy: 0.6204 - val_loss: 0.6513 - val_accuracy: 0.6155\n",
      "Epoch 40/200\n",
      "81/81 [==============================] - 0s 866us/step - loss: 0.5763 - accuracy: 0.6210 - val_loss: 0.6513 - val_accuracy: 0.6171\n",
      "Epoch 41/200\n",
      "81/81 [==============================] - 0s 851us/step - loss: 0.5763 - accuracy: 0.6205 - val_loss: 0.6557 - val_accuracy: 0.6069\n",
      "Epoch 42/200\n",
      "81/81 [==============================] - 0s 863us/step - loss: 0.5760 - accuracy: 0.6207 - val_loss: 0.6499 - val_accuracy: 0.6203\n",
      "Epoch 43/200\n",
      "81/81 [==============================] - 0s 2ms/step - loss: 0.5758 - accuracy: 0.6219 - val_loss: 0.6504 - val_accuracy: 0.6151\n",
      "Epoch 44/200\n",
      "81/81 [==============================] - 0s 851us/step - loss: 0.5758 - accuracy: 0.6194 - val_loss: 0.6532 - val_accuracy: 0.6137\n",
      "Epoch 45/200\n",
      "81/81 [==============================] - 0s 859us/step - loss: 0.5759 - accuracy: 0.6213 - val_loss: 0.6521 - val_accuracy: 0.6137\n",
      "Epoch 46/200\n",
      "81/81 [==============================] - 0s 856us/step - loss: 0.5754 - accuracy: 0.6211 - val_loss: 0.6459 - val_accuracy: 0.6280\n",
      "Epoch 47/200\n",
      "81/81 [==============================] - 0s 861us/step - loss: 0.5756 - accuracy: 0.6228 - val_loss: 0.6495 - val_accuracy: 0.6189\n",
      "Epoch 48/200\n",
      "81/81 [==============================] - 0s 867us/step - loss: 0.5757 - accuracy: 0.6239 - val_loss: 0.6507 - val_accuracy: 0.6173\n",
      "Epoch 49/200\n",
      "81/81 [==============================] - 0s 855us/step - loss: 0.5754 - accuracy: 0.6235 - val_loss: 0.6526 - val_accuracy: 0.6137\n",
      "Epoch 50/200\n",
      "81/81 [==============================] - 0s 856us/step - loss: 0.5751 - accuracy: 0.6213 - val_loss: 0.6477 - val_accuracy: 0.6198\n",
      "Epoch 51/200\n",
      "81/81 [==============================] - 0s 851us/step - loss: 0.5751 - accuracy: 0.6225 - val_loss: 0.6483 - val_accuracy: 0.6182\n",
      "Epoch 52/200\n",
      "81/81 [==============================] - 0s 849us/step - loss: 0.5751 - accuracy: 0.6229 - val_loss: 0.6567 - val_accuracy: 0.6101\n",
      "Epoch 53/200\n",
      "81/81 [==============================] - 0s 859us/step - loss: 0.5752 - accuracy: 0.6202 - val_loss: 0.6500 - val_accuracy: 0.6182\n",
      "Epoch 54/200\n",
      "81/81 [==============================] - 0s 862us/step - loss: 0.5752 - accuracy: 0.6242 - val_loss: 0.6512 - val_accuracy: 0.6176\n",
      "Epoch 55/200\n",
      "81/81 [==============================] - 0s 861us/step - loss: 0.5749 - accuracy: 0.6241 - val_loss: 0.6531 - val_accuracy: 0.6146\n",
      "Epoch 56/200\n",
      "81/81 [==============================] - 0s 849us/step - loss: 0.5744 - accuracy: 0.6211 - val_loss: 0.6538 - val_accuracy: 0.6105\n",
      "Epoch 57/200\n",
      "81/81 [==============================] - 0s 852us/step - loss: 0.5747 - accuracy: 0.6240 - val_loss: 0.6486 - val_accuracy: 0.6203\n",
      "Epoch 58/200\n",
      "81/81 [==============================] - 0s 864us/step - loss: 0.5745 - accuracy: 0.6239 - val_loss: 0.6459 - val_accuracy: 0.6257\n",
      "Epoch 59/200\n",
      "81/81 [==============================] - 0s 867us/step - loss: 0.5745 - accuracy: 0.6229 - val_loss: 0.6486 - val_accuracy: 0.6226\n",
      "Epoch 60/200\n",
      "81/81 [==============================] - 0s 854us/step - loss: 0.5744 - accuracy: 0.6251 - val_loss: 0.6492 - val_accuracy: 0.6205\n",
      "Epoch 61/200\n",
      "81/81 [==============================] - 0s 850us/step - loss: 0.5740 - accuracy: 0.6246 - val_loss: 0.6461 - val_accuracy: 0.6273\n",
      "Epoch 62/200\n",
      "81/81 [==============================] - 0s 865us/step - loss: 0.5742 - accuracy: 0.6248 - val_loss: 0.6452 - val_accuracy: 0.6287\n",
      "Epoch 63/200\n",
      "81/81 [==============================] - 0s 899us/step - loss: 0.5737 - accuracy: 0.6274 - val_loss: 0.6479 - val_accuracy: 0.6196\n",
      "Epoch 64/200\n",
      "81/81 [==============================] - 0s 922us/step - loss: 0.5738 - accuracy: 0.6273 - val_loss: 0.6463 - val_accuracy: 0.6285\n",
      "Epoch 65/200\n",
      "81/81 [==============================] - 0s 904us/step - loss: 0.5738 - accuracy: 0.6264 - val_loss: 0.6471 - val_accuracy: 0.6248\n",
      "Epoch 66/200\n",
      "81/81 [==============================] - 0s 858us/step - loss: 0.5737 - accuracy: 0.6250 - val_loss: 0.6487 - val_accuracy: 0.6253\n",
      "Epoch 67/200\n",
      "81/81 [==============================] - 0s 854us/step - loss: 0.5738 - accuracy: 0.6233 - val_loss: 0.6494 - val_accuracy: 0.6232\n",
      "Epoch 68/200\n",
      "81/81 [==============================] - 0s 877us/step - loss: 0.5736 - accuracy: 0.6240 - val_loss: 0.6508 - val_accuracy: 0.6219\n",
      "Epoch 69/200\n",
      "81/81 [==============================] - 0s 863us/step - loss: 0.5738 - accuracy: 0.6255 - val_loss: 0.6480 - val_accuracy: 0.6253\n",
      "Epoch 70/200\n",
      "81/81 [==============================] - 0s 905us/step - loss: 0.5735 - accuracy: 0.6268 - val_loss: 0.6483 - val_accuracy: 0.6239\n",
      "Epoch 71/200\n",
      "81/81 [==============================] - 0s 1ms/step - loss: 0.5734 - accuracy: 0.6270 - val_loss: 0.6525 - val_accuracy: 0.6182\n",
      "Epoch 72/200\n",
      "81/81 [==============================] - 0s 971us/step - loss: 0.5732 - accuracy: 0.6273 - val_loss: 0.6477 - val_accuracy: 0.6253\n",
      "Epoch 73/200\n",
      "81/81 [==============================] - 0s 915us/step - loss: 0.5733 - accuracy: 0.6276 - val_loss: 0.6482 - val_accuracy: 0.6248\n",
      "Epoch 74/200\n",
      "81/81 [==============================] - 0s 901us/step - loss: 0.5732 - accuracy: 0.6266 - val_loss: 0.6514 - val_accuracy: 0.6167\n",
      "Epoch 75/200\n",
      "81/81 [==============================] - 0s 912us/step - loss: 0.5732 - accuracy: 0.6253 - val_loss: 0.6485 - val_accuracy: 0.6235\n",
      "Epoch 76/200\n",
      "81/81 [==============================] - 0s 864us/step - loss: 0.5731 - accuracy: 0.6282 - val_loss: 0.6465 - val_accuracy: 0.6266\n",
      "Epoch 77/200\n",
      "81/81 [==============================] - 0s 866us/step - loss: 0.5731 - accuracy: 0.6281 - val_loss: 0.6512 - val_accuracy: 0.6185\n",
      "Epoch 78/200\n",
      "81/81 [==============================] - 0s 867us/step - loss: 0.5727 - accuracy: 0.6273 - val_loss: 0.6504 - val_accuracy: 0.6207\n",
      "Epoch 79/200\n",
      "81/81 [==============================] - 0s 852us/step - loss: 0.5730 - accuracy: 0.6275 - val_loss: 0.6481 - val_accuracy: 0.6230\n",
      "Epoch 80/200\n",
      "81/81 [==============================] - 0s 870us/step - loss: 0.5728 - accuracy: 0.6272 - val_loss: 0.6464 - val_accuracy: 0.6246\n",
      "Epoch 81/200\n",
      "81/81 [==============================] - 0s 962us/step - loss: 0.5728 - accuracy: 0.6281 - val_loss: 0.6472 - val_accuracy: 0.6230\n",
      "Epoch 82/200\n",
      "81/81 [==============================] - 0s 989us/step - loss: 0.5726 - accuracy: 0.6293 - val_loss: 0.6512 - val_accuracy: 0.6198\n",
      "Epoch 83/200\n",
      "81/81 [==============================] - 0s 1ms/step - loss: 0.5726 - accuracy: 0.6275 - val_loss: 0.6468 - val_accuracy: 0.6255\n",
      "Epoch 84/200\n",
      "81/81 [==============================] - 0s 917us/step - loss: 0.5725 - accuracy: 0.6312 - val_loss: 0.6503 - val_accuracy: 0.6214\n",
      "Epoch 85/200\n",
      "81/81 [==============================] - 0s 944us/step - loss: 0.5723 - accuracy: 0.6278 - val_loss: 0.6478 - val_accuracy: 0.6228\n",
      "Epoch 86/200\n",
      "81/81 [==============================] - 0s 965us/step - loss: 0.5723 - accuracy: 0.6290 - val_loss: 0.6453 - val_accuracy: 0.6287\n",
      "Epoch 87/200\n",
      "81/81 [==============================] - 0s 2ms/step - loss: 0.5724 - accuracy: 0.6300 - val_loss: 0.6476 - val_accuracy: 0.6221\n",
      "Epoch 88/200\n",
      "81/81 [==============================] - 0s 954us/step - loss: 0.5724 - accuracy: 0.6302 - val_loss: 0.6487 - val_accuracy: 0.6223\n",
      "Epoch 89/200\n",
      "81/81 [==============================] - 0s 945us/step - loss: 0.5723 - accuracy: 0.6296 - val_loss: 0.6477 - val_accuracy: 0.6237\n",
      "Epoch 90/200\n",
      "81/81 [==============================] - 0s 946us/step - loss: 0.5722 - accuracy: 0.6304 - val_loss: 0.6511 - val_accuracy: 0.6212\n",
      "Epoch 91/200\n",
      "81/81 [==============================] - 0s 950us/step - loss: 0.5721 - accuracy: 0.6289 - val_loss: 0.6582 - val_accuracy: 0.6110\n",
      "Epoch 92/200\n",
      "81/81 [==============================] - 0s 935us/step - loss: 0.5718 - accuracy: 0.6262 - val_loss: 0.6455 - val_accuracy: 0.6266\n",
      "Epoch 93/200\n",
      "81/81 [==============================] - 0s 948us/step - loss: 0.5720 - accuracy: 0.6313 - val_loss: 0.6562 - val_accuracy: 0.6139\n",
      "Epoch 94/200\n",
      "81/81 [==============================] - 0s 940us/step - loss: 0.5718 - accuracy: 0.6299 - val_loss: 0.6518 - val_accuracy: 0.6205\n",
      "Epoch 95/200\n",
      "81/81 [==============================] - 0s 987us/step - loss: 0.5720 - accuracy: 0.6281 - val_loss: 0.6458 - val_accuracy: 0.6291\n",
      "Epoch 96/200\n",
      "81/81 [==============================] - 0s 972us/step - loss: 0.5718 - accuracy: 0.6308 - val_loss: 0.6512 - val_accuracy: 0.6219\n",
      "Epoch 97/200\n",
      "81/81 [==============================] - 0s 881us/step - loss: 0.5717 - accuracy: 0.6287 - val_loss: 0.6574 - val_accuracy: 0.6126\n",
      "Epoch 98/200\n",
      "81/81 [==============================] - 0s 923us/step - loss: 0.5719 - accuracy: 0.6295 - val_loss: 0.6481 - val_accuracy: 0.6228\n",
      "Epoch 99/200\n",
      "81/81 [==============================] - 0s 1ms/step - loss: 0.5718 - accuracy: 0.6278 - val_loss: 0.6467 - val_accuracy: 0.6241\n",
      "Epoch 100/200\n",
      "81/81 [==============================] - 0s 947us/step - loss: 0.5716 - accuracy: 0.6300 - val_loss: 0.6523 - val_accuracy: 0.6176\n",
      "Epoch 101/200\n",
      "81/81 [==============================] - 0s 950us/step - loss: 0.5718 - accuracy: 0.6320 - val_loss: 0.6569 - val_accuracy: 0.6123\n",
      "Epoch 102/200\n",
      "81/81 [==============================] - 0s 929us/step - loss: 0.5717 - accuracy: 0.6282 - val_loss: 0.6511 - val_accuracy: 0.6187\n",
      "Epoch 103/200\n",
      "81/81 [==============================] - 0s 947us/step - loss: 0.5716 - accuracy: 0.6274 - val_loss: 0.6497 - val_accuracy: 0.6173\n",
      "Epoch 104/200\n",
      "81/81 [==============================] - 0s 942us/step - loss: 0.5713 - accuracy: 0.6310 - val_loss: 0.6511 - val_accuracy: 0.6187\n",
      "Epoch 105/200\n",
      "81/81 [==============================] - 0s 957us/step - loss: 0.5714 - accuracy: 0.6327 - val_loss: 0.6497 - val_accuracy: 0.6187\n",
      "Epoch 106/200\n",
      "81/81 [==============================] - 0s 892us/step - loss: 0.5714 - accuracy: 0.6320 - val_loss: 0.6526 - val_accuracy: 0.6182\n",
      "Epoch 107/200\n",
      "81/81 [==============================] - 0s 918us/step - loss: 0.5714 - accuracy: 0.6302 - val_loss: 0.6494 - val_accuracy: 0.6187\n",
      "Epoch 108/200\n",
      "81/81 [==============================] - 0s 921us/step - loss: 0.5714 - accuracy: 0.6306 - val_loss: 0.6547 - val_accuracy: 0.6155\n",
      "Epoch 109/200\n",
      "81/81 [==============================] - 0s 920us/step - loss: 0.5713 - accuracy: 0.6304 - val_loss: 0.6454 - val_accuracy: 0.6219\n",
      "Epoch 110/200\n",
      "81/81 [==============================] - 0s 917us/step - loss: 0.5712 - accuracy: 0.6324 - val_loss: 0.6502 - val_accuracy: 0.6182\n",
      "Epoch 111/200\n",
      "81/81 [==============================] - 0s 1ms/step - loss: 0.5713 - accuracy: 0.6299 - val_loss: 0.6530 - val_accuracy: 0.6164\n",
      "Epoch 112/200\n",
      "81/81 [==============================] - 0s 928us/step - loss: 0.5709 - accuracy: 0.6314 - val_loss: 0.6452 - val_accuracy: 0.6278\n",
      "Epoch 113/200\n",
      "81/81 [==============================] - 0s 920us/step - loss: 0.5711 - accuracy: 0.6310 - val_loss: 0.6474 - val_accuracy: 0.6237\n",
      "Epoch 114/200\n",
      "81/81 [==============================] - 0s 929us/step - loss: 0.5710 - accuracy: 0.6312 - val_loss: 0.6479 - val_accuracy: 0.6223\n",
      "Epoch 115/200\n",
      "81/81 [==============================] - 0s 886us/step - loss: 0.5706 - accuracy: 0.6330 - val_loss: 0.6469 - val_accuracy: 0.6255\n",
      "Epoch 116/200\n",
      "81/81 [==============================] - 0s 871us/step - loss: 0.5711 - accuracy: 0.6311 - val_loss: 0.6492 - val_accuracy: 0.6205\n",
      "Epoch 117/200\n",
      "81/81 [==============================] - 0s 865us/step - loss: 0.5710 - accuracy: 0.6329 - val_loss: 0.6517 - val_accuracy: 0.6164\n",
      "Epoch 118/200\n",
      "81/81 [==============================] - 0s 851us/step - loss: 0.5710 - accuracy: 0.6315 - val_loss: 0.6500 - val_accuracy: 0.6185\n",
      "Epoch 119/200\n",
      "81/81 [==============================] - 0s 856us/step - loss: 0.5708 - accuracy: 0.6324 - val_loss: 0.6512 - val_accuracy: 0.6187\n",
      "Epoch 120/200\n",
      "81/81 [==============================] - 0s 868us/step - loss: 0.5709 - accuracy: 0.6298 - val_loss: 0.6472 - val_accuracy: 0.6221\n",
      "Epoch 121/200\n",
      "81/81 [==============================] - 0s 880us/step - loss: 0.5709 - accuracy: 0.6315 - val_loss: 0.6518 - val_accuracy: 0.6171\n",
      "Epoch 122/200\n",
      "81/81 [==============================] - 0s 852us/step - loss: 0.5707 - accuracy: 0.6307 - val_loss: 0.6487 - val_accuracy: 0.6198\n",
      "Epoch 123/200\n",
      "81/81 [==============================] - 0s 860us/step - loss: 0.5706 - accuracy: 0.6317 - val_loss: 0.6514 - val_accuracy: 0.6160\n",
      "Epoch 124/200\n",
      "81/81 [==============================] - 0s 867us/step - loss: 0.5707 - accuracy: 0.6309 - val_loss: 0.6496 - val_accuracy: 0.6203\n",
      "Epoch 125/200\n",
      "81/81 [==============================] - 0s 850us/step - loss: 0.5707 - accuracy: 0.6284 - val_loss: 0.6475 - val_accuracy: 0.6223\n",
      "Epoch 126/200\n",
      "81/81 [==============================] - 0s 848us/step - loss: 0.5707 - accuracy: 0.6319 - val_loss: 0.6495 - val_accuracy: 0.6203\n",
      "Epoch 127/200\n",
      "81/81 [==============================] - 0s 859us/step - loss: 0.5707 - accuracy: 0.6320 - val_loss: 0.6525 - val_accuracy: 0.6171\n",
      "Epoch 128/200\n",
      "81/81 [==============================] - 0s 867us/step - loss: 0.5706 - accuracy: 0.6306 - val_loss: 0.6565 - val_accuracy: 0.6148\n",
      "Epoch 129/200\n",
      "81/81 [==============================] - 0s 852us/step - loss: 0.5702 - accuracy: 0.6309 - val_loss: 0.6493 - val_accuracy: 0.6182\n",
      "Epoch 130/200\n",
      "81/81 [==============================] - 0s 855us/step - loss: 0.5707 - accuracy: 0.6333 - val_loss: 0.6521 - val_accuracy: 0.6182\n",
      "Epoch 131/200\n",
      "81/81 [==============================] - 0s 865us/step - loss: 0.5704 - accuracy: 0.6297 - val_loss: 0.6537 - val_accuracy: 0.6167\n",
      "Epoch 132/200\n",
      "81/81 [==============================] - 0s 854us/step - loss: 0.5705 - accuracy: 0.6291 - val_loss: 0.6475 - val_accuracy: 0.6212\n",
      "Epoch 133/200\n",
      "81/81 [==============================] - 0s 855us/step - loss: 0.5703 - accuracy: 0.6319 - val_loss: 0.6533 - val_accuracy: 0.6180\n",
      "Epoch 134/200\n",
      "81/81 [==============================] - 0s 1ms/step - loss: 0.5705 - accuracy: 0.6296 - val_loss: 0.6470 - val_accuracy: 0.6253\n",
      "Epoch 135/200\n",
      "81/81 [==============================] - 0s 864us/step - loss: 0.5705 - accuracy: 0.6313 - val_loss: 0.6485 - val_accuracy: 0.6196\n",
      "Epoch 136/200\n",
      "81/81 [==============================] - 0s 867us/step - loss: 0.5703 - accuracy: 0.6313 - val_loss: 0.6501 - val_accuracy: 0.6223\n",
      "Epoch 137/200\n",
      "81/81 [==============================] - 0s 863us/step - loss: 0.5703 - accuracy: 0.6313 - val_loss: 0.6505 - val_accuracy: 0.6196\n",
      "Epoch 138/200\n",
      "81/81 [==============================] - 0s 849us/step - loss: 0.5703 - accuracy: 0.6335 - val_loss: 0.6504 - val_accuracy: 0.6182\n",
      "Epoch 139/200\n",
      "81/81 [==============================] - 0s 857us/step - loss: 0.5702 - accuracy: 0.6325 - val_loss: 0.6473 - val_accuracy: 0.6201\n",
      "Epoch 140/200\n",
      "81/81 [==============================] - 0s 863us/step - loss: 0.5703 - accuracy: 0.6323 - val_loss: 0.6488 - val_accuracy: 0.6205\n",
      "Epoch 141/200\n",
      "81/81 [==============================] - 0s 859us/step - loss: 0.5701 - accuracy: 0.6311 - val_loss: 0.6539 - val_accuracy: 0.6187\n",
      "Epoch 142/200\n",
      "81/81 [==============================] - 0s 858us/step - loss: 0.5703 - accuracy: 0.6308 - val_loss: 0.6475 - val_accuracy: 0.6217\n",
      "Epoch 143/200\n",
      "81/81 [==============================] - 0s 853us/step - loss: 0.5703 - accuracy: 0.6348 - val_loss: 0.6467 - val_accuracy: 0.6201\n",
      "Epoch 144/200\n",
      "81/81 [==============================] - 0s 861us/step - loss: 0.5702 - accuracy: 0.6316 - val_loss: 0.6532 - val_accuracy: 0.6158\n",
      "Epoch 145/200\n",
      "81/81 [==============================] - 0s 866us/step - loss: 0.5704 - accuracy: 0.6314 - val_loss: 0.6502 - val_accuracy: 0.6228\n",
      "Epoch 146/200\n",
      "81/81 [==============================] - 0s 848us/step - loss: 0.5702 - accuracy: 0.6298 - val_loss: 0.6532 - val_accuracy: 0.6189\n",
      "Epoch 147/200\n",
      "81/81 [==============================] - 0s 855us/step - loss: 0.5703 - accuracy: 0.6326 - val_loss: 0.6515 - val_accuracy: 0.6214\n",
      "Epoch 148/200\n",
      "81/81 [==============================] - 0s 859us/step - loss: 0.5702 - accuracy: 0.6338 - val_loss: 0.6479 - val_accuracy: 0.6210\n",
      "Epoch 149/200\n",
      "81/81 [==============================] - 0s 857us/step - loss: 0.5701 - accuracy: 0.6345 - val_loss: 0.6621 - val_accuracy: 0.6092\n",
      "Epoch 150/200\n",
      "81/81 [==============================] - 0s 849us/step - loss: 0.5699 - accuracy: 0.6326 - val_loss: 0.6542 - val_accuracy: 0.6155\n",
      "Epoch 151/200\n",
      "81/81 [==============================] - 0s 851us/step - loss: 0.5700 - accuracy: 0.6324 - val_loss: 0.6505 - val_accuracy: 0.6185\n",
      "Epoch 152/200\n",
      "81/81 [==============================] - 0s 856us/step - loss: 0.5702 - accuracy: 0.6315 - val_loss: 0.6475 - val_accuracy: 0.6214\n",
      "Epoch 153/200\n",
      "81/81 [==============================] - 0s 856us/step - loss: 0.5699 - accuracy: 0.6306 - val_loss: 0.6545 - val_accuracy: 0.6171\n",
      "Epoch 154/200\n",
      "81/81 [==============================] - 0s 855us/step - loss: 0.5698 - accuracy: 0.6324 - val_loss: 0.6518 - val_accuracy: 0.6232\n",
      "Epoch 155/200\n",
      "81/81 [==============================] - 0s 854us/step - loss: 0.5702 - accuracy: 0.6313 - val_loss: 0.6495 - val_accuracy: 0.6203\n",
      "Epoch 156/200\n",
      "81/81 [==============================] - 0s 863us/step - loss: 0.5699 - accuracy: 0.6340 - val_loss: 0.6494 - val_accuracy: 0.6162\n",
      "Epoch 157/200\n",
      "81/81 [==============================] - 0s 857us/step - loss: 0.5699 - accuracy: 0.6313 - val_loss: 0.6512 - val_accuracy: 0.6153\n",
      "Epoch 158/200\n",
      "81/81 [==============================] - 0s 853us/step - loss: 0.5698 - accuracy: 0.6323 - val_loss: 0.6564 - val_accuracy: 0.6155\n",
      "Epoch 159/200\n",
      "81/81 [==============================] - 0s 858us/step - loss: 0.5698 - accuracy: 0.6318 - val_loss: 0.6497 - val_accuracy: 0.6214\n",
      "Epoch 160/200\n",
      "81/81 [==============================] - 0s 852us/step - loss: 0.5699 - accuracy: 0.6302 - val_loss: 0.6487 - val_accuracy: 0.6230\n",
      "Epoch 161/200\n",
      "81/81 [==============================] - 0s 867us/step - loss: 0.5697 - accuracy: 0.6339 - val_loss: 0.6499 - val_accuracy: 0.6221\n",
      "Epoch 162/200\n",
      "81/81 [==============================] - 0s 856us/step - loss: 0.5698 - accuracy: 0.6330 - val_loss: 0.6497 - val_accuracy: 0.6214\n",
      "Epoch 163/200\n",
      "81/81 [==============================] - 0s 857us/step - loss: 0.5697 - accuracy: 0.6337 - val_loss: 0.6530 - val_accuracy: 0.6185\n",
      "Epoch 164/200\n",
      "81/81 [==============================] - 0s 857us/step - loss: 0.5697 - accuracy: 0.6313 - val_loss: 0.6498 - val_accuracy: 0.6187\n",
      "Epoch 165/200\n",
      "81/81 [==============================] - 0s 864us/step - loss: 0.5697 - accuracy: 0.6320 - val_loss: 0.6494 - val_accuracy: 0.6203\n",
      "Epoch 166/200\n",
      "81/81 [==============================] - 0s 862us/step - loss: 0.5695 - accuracy: 0.6333 - val_loss: 0.6553 - val_accuracy: 0.6160\n",
      "Epoch 167/200\n",
      "81/81 [==============================] - 0s 850us/step - loss: 0.5696 - accuracy: 0.6345 - val_loss: 0.6529 - val_accuracy: 0.6187\n",
      "Epoch 168/200\n",
      "81/81 [==============================] - 0s 867us/step - loss: 0.5695 - accuracy: 0.6303 - val_loss: 0.6493 - val_accuracy: 0.6241\n",
      "Epoch 169/200\n",
      "81/81 [==============================] - 0s 859us/step - loss: 0.5694 - accuracy: 0.6340 - val_loss: 0.6480 - val_accuracy: 0.6251\n",
      "Epoch 170/200\n",
      "81/81 [==============================] - 0s 854us/step - loss: 0.5693 - accuracy: 0.6346 - val_loss: 0.6511 - val_accuracy: 0.6235\n",
      "Epoch 171/200\n",
      "81/81 [==============================] - 0s 866us/step - loss: 0.5695 - accuracy: 0.6337 - val_loss: 0.6594 - val_accuracy: 0.6123\n",
      "Epoch 172/200\n",
      "81/81 [==============================] - 0s 928us/step - loss: 0.5693 - accuracy: 0.6342 - val_loss: 0.6488 - val_accuracy: 0.6232\n",
      "Epoch 173/200\n",
      "81/81 [==============================] - 0s 912us/step - loss: 0.5695 - accuracy: 0.6326 - val_loss: 0.6504 - val_accuracy: 0.6210\n",
      "Epoch 174/200\n",
      "81/81 [==============================] - 0s 883us/step - loss: 0.5694 - accuracy: 0.6336 - val_loss: 0.6518 - val_accuracy: 0.6210\n",
      "Epoch 175/200\n",
      "81/81 [==============================] - 0s 879us/step - loss: 0.5692 - accuracy: 0.6336 - val_loss: 0.6467 - val_accuracy: 0.6271\n",
      "Epoch 176/200\n",
      "81/81 [==============================] - 0s 920us/step - loss: 0.5691 - accuracy: 0.6342 - val_loss: 0.6515 - val_accuracy: 0.6182\n",
      "Epoch 177/200\n",
      "81/81 [==============================] - 0s 884us/step - loss: 0.5692 - accuracy: 0.6330 - val_loss: 0.6516 - val_accuracy: 0.6244\n",
      "Epoch 178/200\n",
      "81/81 [==============================] - 0s 863us/step - loss: 0.5691 - accuracy: 0.6331 - val_loss: 0.6539 - val_accuracy: 0.6144\n",
      "Epoch 179/200\n",
      "81/81 [==============================] - 0s 866us/step - loss: 0.5694 - accuracy: 0.6323 - val_loss: 0.6509 - val_accuracy: 0.6187\n",
      "Epoch 180/200\n",
      "81/81 [==============================] - 0s 872us/step - loss: 0.5691 - accuracy: 0.6327 - val_loss: 0.6542 - val_accuracy: 0.6178\n",
      "Epoch 181/200\n",
      "81/81 [==============================] - 0s 1ms/step - loss: 0.5693 - accuracy: 0.6335 - val_loss: 0.6523 - val_accuracy: 0.6214\n",
      "Epoch 182/200\n",
      "81/81 [==============================] - 0s 941us/step - loss: 0.5691 - accuracy: 0.6328 - val_loss: 0.6496 - val_accuracy: 0.6228\n",
      "Epoch 183/200\n",
      "81/81 [==============================] - 0s 894us/step - loss: 0.5690 - accuracy: 0.6313 - val_loss: 0.6503 - val_accuracy: 0.6228\n",
      "Epoch 184/200\n",
      "81/81 [==============================] - 0s 870us/step - loss: 0.5690 - accuracy: 0.6314 - val_loss: 0.6506 - val_accuracy: 0.6239\n",
      "Epoch 185/200\n",
      "81/81 [==============================] - 0s 894us/step - loss: 0.5691 - accuracy: 0.6342 - val_loss: 0.6530 - val_accuracy: 0.6169\n",
      "Epoch 186/200\n",
      "81/81 [==============================] - 0s 905us/step - loss: 0.5691 - accuracy: 0.6345 - val_loss: 0.6588 - val_accuracy: 0.6133\n",
      "Epoch 187/200\n",
      "81/81 [==============================] - 0s 875us/step - loss: 0.5687 - accuracy: 0.6336 - val_loss: 0.6521 - val_accuracy: 0.6232\n",
      "Epoch 188/200\n",
      "81/81 [==============================] - 0s 854us/step - loss: 0.5687 - accuracy: 0.6329 - val_loss: 0.6585 - val_accuracy: 0.6162\n",
      "Epoch 189/200\n",
      "81/81 [==============================] - 0s 861us/step - loss: 0.5689 - accuracy: 0.6330 - val_loss: 0.6493 - val_accuracy: 0.6205\n",
      "Epoch 190/200\n",
      "81/81 [==============================] - 0s 874us/step - loss: 0.5691 - accuracy: 0.6329 - val_loss: 0.6513 - val_accuracy: 0.6223\n",
      "Epoch 191/200\n",
      "81/81 [==============================] - 0s 862us/step - loss: 0.5689 - accuracy: 0.6321 - val_loss: 0.6488 - val_accuracy: 0.6228\n",
      "Epoch 192/200\n",
      "81/81 [==============================] - 0s 855us/step - loss: 0.5688 - accuracy: 0.6338 - val_loss: 0.6492 - val_accuracy: 0.6221\n",
      "Epoch 193/200\n",
      "81/81 [==============================] - 0s 860us/step - loss: 0.5688 - accuracy: 0.6310 - val_loss: 0.6545 - val_accuracy: 0.6201\n",
      "Epoch 194/200\n",
      "81/81 [==============================] - 0s 862us/step - loss: 0.5684 - accuracy: 0.6338 - val_loss: 0.6490 - val_accuracy: 0.6257\n",
      "Epoch 195/200\n",
      "81/81 [==============================] - 0s 854us/step - loss: 0.5689 - accuracy: 0.6348 - val_loss: 0.6559 - val_accuracy: 0.6187\n",
      "Epoch 196/200\n",
      "81/81 [==============================] - 0s 856us/step - loss: 0.5690 - accuracy: 0.6349 - val_loss: 0.6488 - val_accuracy: 0.6269\n",
      "Epoch 197/200\n",
      "81/81 [==============================] - 0s 871us/step - loss: 0.5688 - accuracy: 0.6332 - val_loss: 0.6589 - val_accuracy: 0.6162\n",
      "Epoch 198/200\n",
      "81/81 [==============================] - 0s 873us/step - loss: 0.5686 - accuracy: 0.6339 - val_loss: 0.6499 - val_accuracy: 0.6226\n",
      "Epoch 199/200\n",
      "81/81 [==============================] - 0s 849us/step - loss: 0.5687 - accuracy: 0.6321 - val_loss: 0.6474 - val_accuracy: 0.6205\n",
      "Epoch 200/200\n",
      "81/81 [==============================] - 0s 853us/step - loss: 0.5689 - accuracy: 0.6318 - val_loss: 0.6491 - val_accuracy: 0.6217\n"
     ]
    }
   ],
   "source": [
    "# 학습하기\n",
    "history=model.fit(\n",
    "  X_train,y_train,\n",
    "  epochs=200,batch_size=128,\n",
    "  validation_split=0.3, class_weight={0:1,1:0.81}\n",
    ")"
   ]
  },
  {
   "cell_type": "markdown",
   "metadata": {},
   "source": [
    "7. 학습 중 Loss 함수를 그리시오. "
   ]
  },
  {
   "cell_type": "code",
   "execution_count": 19,
   "metadata": {},
   "outputs": [
    {
     "name": "stdout",
     "output_type": "stream",
     "text": [
      "dict_keys(['loss', 'accuracy', 'val_loss', 'val_accuracy'])\n"
     ]
    }
   ],
   "source": [
    "history_dict=history.history\n",
    "print(history_dict.keys())"
   ]
  },
  {
   "cell_type": "code",
   "execution_count": 20,
   "metadata": {},
   "outputs": [],
   "source": [
    "acc=history.history['accuracy']\n",
    "val_acc=history.history['val_accuracy']\n",
    "loss=history.history['loss']\n",
    "val_loss=history.history['val_loss']\n",
    "epochs=range(1,len(acc)+1)"
   ]
  },
  {
   "cell_type": "code",
   "execution_count": 21,
   "metadata": {},
   "outputs": [
    {
     "data": {
      "image/png": "[encoded data removed]",
      "text/plain": [
       "<Figure size 640x480 with 1 Axes>"
      ]
     },
     "metadata": {},
     "output_type": "display_data"
    }
   ],
   "source": [
    "import matplotlib.pyplot as plt \n",
    "\n",
    "# Loss 함수 그리기\n",
    "plt.plot(epochs,loss,'bo',label='Training loss')\n",
    "plt.plot(epochs,val_loss,'b',label='Validation loss')\n",
    "plt.title('Training and validation loss')\n",
    "plt.xlabel('Epochs')\n",
    "plt.legend()\n",
    "plt.show()"
   ]
  },
  {
   "cell_type": "markdown",
   "metadata": {},
   "source": [
    "8. 학습 중 정확도 함수를 그리시오."
   ]
  },
  {
   "cell_type": "code",
   "execution_count": 22,
   "metadata": {},
   "outputs": [
    {
     "data": {
      "image/png": "[encoded data removed]",
      "text/plain": [
       "<Figure size 640x480 with 1 Axes>"
      ]
     },
     "metadata": {},
     "output_type": "display_data"
    }
   ],
   "source": [
    "# 정확도 그리기\n",
    "plt.plot(epochs,acc,'bo',label='Training accuracy')\n",
    "plt.plot(epochs,val_acc,'b',label='Validation accuracy')\n",
    "plt.title('Training and validation Accuracy')\n",
    "plt.xlabel('Epochs')\n",
    "plt.legend()\n",
    "plt.show()"
   ]
  },
  {
   "cell_type": "markdown",
   "metadata": {},
   "source": [
    "9. 테스트 데이터 집합에 대한 성능을 확인하시오."
   ]
  },
  {
   "cell_type": "code",
   "execution_count": 23,
   "metadata": {},
   "outputs": [
    {
     "name": "stdout",
     "output_type": "stream",
     "text": [
      "115/115 [==============================] - 0s 406us/step\n"
     ]
    },
    {
     "data": {
      "text/plain": [
       "(3671, 1)"
      ]
     },
     "execution_count": 23,
     "metadata": {},
     "output_type": "execute_result"
    }
   ],
   "source": [
    "# 예측\n",
    "predicted_result=model.predict(X_test)\n",
    "predicted_result.shape"
   ]
  },
  {
   "cell_type": "code",
   "execution_count": 24,
   "metadata": {},
   "outputs": [],
   "source": [
    "predicted_target=pd.Series([1 if predicted_result[i]> 0.5 \\\n",
    "         else 0 for i in range(0,predicted_result.shape[0])])"
   ]
  },
  {
   "cell_type": "code",
   "execution_count": 25,
   "metadata": {},
   "outputs": [
    {
     "name": "stdout",
     "output_type": "stream",
     "text": [
      "confusion matrix\n",
      "[[ 851  824]\n",
      " [ 637 1359]]\n",
      "정확도: 0.6020. 재현율: 0.6809, 정밀도: 0.6225\n"
     ]
    }
   ],
   "source": [
    "get_clf_eval(y_test,predicted_target)"
   ]
  }
 ],
 "metadata": {
  "kernelspec": {
   "display_name": "dm-3-12",
   "language": "python",
   "name": "python3"
  },
  "language_info": {
   "codemirror_mode": {
    "name": "ipython",
    "version": 3
   },
   "file_extension": ".py",
   "mimetype": "text/x-python",
   "name": "python",
   "nbconvert_exporter": "python",
   "pygments_lexer": "ipython3",
   "version": "3.9.16"
  }
 },
 "nbformat": 4,
 "nbformat_minor": 4
}
